{
 "cells": [
  {
   "cell_type": "markdown",
   "metadata": {},
   "source": [
    "**Seungjae Lee and Michael Yu**\n",
    "\n",
    "Fall 2019\n",
    "\n",
    "CS343: Neural Networks\n",
    "\n",
    "Project 3: Convolutional Neural Networks"
   ]
  },
  {
   "cell_type": "code",
   "execution_count": 5,
   "metadata": {},
   "outputs": [],
   "source": [
    "import os\n",
    "import random\n",
    "import numpy as np\n",
    "import matplotlib.pyplot as plt\n",
    "\n",
    "plt.style.use(['seaborn-colorblind', 'seaborn-darkgrid'])\n",
    "plt.rcParams.update({'font.size': 20})\n",
    "\n",
    "np.set_printoptions(suppress=True, precision=7)\n",
    "\n",
    "# Automatically reload your external source code\n",
    "%load_ext autoreload\n",
    "%autoreload 2"
   ]
  },
  {
   "cell_type": "markdown",
   "metadata": {},
   "source": [
    "**Global note: Make sure any debug printouts do not appear if `verbose=False`!**"
   ]
  },
  {
   "cell_type": "markdown",
   "metadata": {},
   "source": [
    "## Task 4) Implement weight optimizers for gradient descent\n",
    "\n",
    "To change the weights during training, we need an optimization algorithm to have our loss decrease over epochs as we learn the structure of the input patterns. Until now, we used **Stochastic gradient descent (SGD)**, which is the simplest algorithm. We will implement 3 popular algorithms:\n",
    "\n",
    "- `SGD` (stochastic gradient descent)\n",
    "- `SGD_Momentum` (stochastic gradient descent with momentum)\n",
    "- `Adam` (Adaptive Moment Estimation)\n",
    "\n",
    "Implement each of these according to the update equations (in `optimizer.py::update_weights` in each subclass). Let's use $w_t$ in the math below to represent the weights in a layer at time step $t$, $dw$ to represent the gradient of the weights in a layer, and $\\eta$ represent the learning rate. We use vectorized notation below (update applies to all weights element-wise). Then:\n",
    "\n",
    "**SGD**: \n",
    "\n",
    "$w_{t} = w_{t-1} - \\eta \\times dw$\n",
    "\n",
    "**SGD (momentum)**:\n",
    "\n",
    "$v_{t} = m \\times v_{t-1} - \\eta \\times dw$\n",
    "\n",
    "$w_{t} = w_{t-1} + v_t$\n",
    "\n",
    "where $v_t$ is called the `velocity` at time $t$. At the first time step (0), velocity should be set to all zeros and have the same shape as $w$. $m$ is a constant that determines how much of the gradient obtained on the previous time step should factor into the weight update for the current time step.\n",
    "\n",
    "\n",
    "**Adam**:\n",
    "\n",
    "$m_{t} = \\beta_1 \\times m_{t-1} + (1 - \\beta_1)\\times dw$\n",
    "\n",
    "$v_{t} = \\beta_2 \\times v_{t-1} + (1 - \\beta_2)\\times dw^2$\n",
    "\n",
    "$n = m_{t} / \\left (1-(\\beta_1^t) \\right )$\n",
    "\n",
    "$u = v_{t} / \\left (1-(\\beta_2^t) \\right )$\n",
    "\n",
    "$w_{t} = w_{t-1} - \\left ( \\eta \\times n \\right ) / \\left ( \\sqrt(u) + \\epsilon \\right ) $\n",
    "\n",
    "\n",
    "Like SGD (momentum), Adam records momentum terms $m$ and $v$. At time step 0, you should initialize them to zeros in an array equal in size to the weights. $n$ and $u$ are variables computed on each time step. The remaining quantities are constants. Note that $t$ keeps track of the integer time step, and needs to be incremented on each update. "
   ]
  },
  {
   "cell_type": "code",
   "execution_count": 6,
   "metadata": {},
   "outputs": [],
   "source": [
    "from optimizer import *"
   ]
  },
  {
   "cell_type": "markdown",
   "metadata": {},
   "source": [
    "####  Test SGD"
   ]
  },
  {
   "cell_type": "code",
   "execution_count": 3,
   "metadata": {},
   "outputs": [
    {
     "name": "stdout",
     "output_type": "stream",
     "text": [
      "SGD: Wts after 1 iter [-3.1764052 -2.0400157 -1.0978738 -0.2240893  0.8132442  2.0977278]\n",
      "SGD: Wts after 2 iter [-3.3528105 -2.0800314 -1.1957476 -0.4481786  0.6264884  2.1954556]\n"
     ]
    }
   ],
   "source": [
    "np.random.seed(0)\n",
    "\n",
    "wts = np.arange(-3, 3, dtype=np.float64)\n",
    "d_wts = np.random.randn(len(wts))\n",
    "\n",
    "optimizer = SGD()\n",
    "optimizer.prepare(wts, d_wts)\n",
    "\n",
    "new_wts_1 = optimizer.update_weights()\n",
    "new_wts_2 = optimizer.update_weights()\n",
    "\n",
    "print(f'SGD: Wts after 1 iter {new_wts_1}')\n",
    "print(f'SGD: Wts after 2 iter {new_wts_2}')"
   ]
  },
  {
   "cell_type": "markdown",
   "metadata": {},
   "source": [
    "Output should be:\n",
    "\n",
    "    SGD: Wts after 1 iter [-3.1764052 -2.0400157 -1.0978738 -0.2240893  0.8132442  2.0977278]\n",
    "    SGD: Wts after 2 iter [-3.3528105 -2.0800314 -1.1957476 -0.4481786  0.6264884  2.1954556]"
   ]
  },
  {
   "cell_type": "markdown",
   "metadata": {},
   "source": [
    "####  Test SGD_Momentum"
   ]
  },
  {
   "cell_type": "code",
   "execution_count": 4,
   "metadata": {},
   "outputs": [
    {
     "name": "stdout",
     "output_type": "stream",
     "text": [
      "SGD M: Wts after 1 iter\n",
      "[[ 1.6879486  0.3879897  0.9343517  2.2075258]\n",
      " [ 1.7181501 -0.9567621  0.9187816 -0.0659476]\n",
      " [ 0.1520801  0.3452366  0.0576     1.52849  ]]\n",
      "SGD M: Wts after 2 iter\n",
      "[[ 1.5661825  0.3685217  0.8633335  2.1541379]\n",
      " [ 1.4790974 -0.9239367  0.8686908  0.0707077]\n",
      " [ 0.5605585  0.2406577 -0.0807098  1.6472364]]\n"
     ]
    }
   ],
   "source": [
    "np.random.seed(0)\n",
    "\n",
    "wts = np.random.randn(3, 4)\n",
    "d_wts = np.random.randn(3, 4)\n",
    "\n",
    "optimizer = SGD_Momentum(lr=0.1, m=0.6)\n",
    "optimizer.prepare(wts, d_wts)\n",
    "\n",
    "new_wts_1 = optimizer.update_weights()\n",
    "new_wts_2 = optimizer.update_weights()\n",
    "\n",
    "print(f'SGD M: Wts after 1 iter\\n{new_wts_1}')\n",
    "print(f'SGD M: Wts after 2 iter\\n{new_wts_2}')"
   ]
  },
  {
   "cell_type": "markdown",
   "metadata": {},
   "source": [
    "Output should be:\n",
    "\n",
    "    SGD M: Wts after 1 iter\n",
    "    [[ 1.6879486  0.3879897  0.9343517  2.2075258]\n",
    "     [ 1.7181501 -0.9567621  0.9187816 -0.0659476]\n",
    "     [ 0.1520801  0.3452366  0.0576     1.52849  ]]\n",
    "    SGD M: Wts after 2 iter\n",
    "    [[ 1.5661825  0.3685217  0.8633335  2.1541379]\n",
    "     [ 1.4790974 -0.9239367  0.8686908  0.0707077]\n",
    "     [ 0.5605585  0.2406577 -0.0807098  1.6472364]]"
   ]
  },
  {
   "cell_type": "markdown",
   "metadata": {},
   "source": [
    "####  Test Adam"
   ]
  },
  {
   "cell_type": "code",
   "execution_count": 5,
   "metadata": {},
   "outputs": [
    {
     "name": "stdout",
     "output_type": "stream",
     "text": [
      "Adam: Wts after 1 iter\n",
      "[[ 1.6640523  0.3001572  0.878738   2.1408932]\n",
      " [ 1.767558  -0.8772779  0.8500884 -0.0513572]\n",
      " [-0.0032189  0.3105985  0.0440436  1.5542735]]\n",
      "Adam: Wts after 2 iter\n",
      "[[ 1.5640523  0.2001572  0.778738   2.0408932]\n",
      " [ 1.667558  -0.7772779  0.7500884  0.0486428]\n",
      " [ 0.0967811  0.2105985 -0.0559564  1.6542735]]\n",
      "Adam: Wts after 3 iter\n",
      "[[ 1.4640523  0.1001572  0.678738   1.9408932]\n",
      " [ 1.567558  -0.6772779  0.6500884  0.1486428]\n",
      " [ 0.1967811  0.1105985 -0.1559564  1.7542735]]\n"
     ]
    }
   ],
   "source": [
    "np.random.seed(0)\n",
    "\n",
    "wts = np.random.randn(3, 4)\n",
    "d_wts = np.random.randn(3, 4)\n",
    "\n",
    "optimizer = Adam(lr=0.1)\n",
    "optimizer.prepare(wts, d_wts)\n",
    "\n",
    "new_wts_1 = optimizer.update_weights()\n",
    "new_wts_2 = optimizer.update_weights()\n",
    "new_wts_3 = optimizer.update_weights()\n",
    "\n",
    "print(f'Adam: Wts after 1 iter\\n{new_wts_1}')\n",
    "print(f'Adam: Wts after 2 iter\\n{new_wts_2}')\n",
    "print(f'Adam: Wts after 3 iter\\n{new_wts_3}')"
   ]
  },
  {
   "cell_type": "markdown",
   "metadata": {},
   "source": [
    "Output should be:\n",
    "\n",
    "    Adam: Wts after 1 iter\n",
    "    [[ 1.6640523  0.3001572  0.878738   2.1408932]\n",
    "     [ 1.767558  -0.8772779  0.8500884 -0.0513572]\n",
    "     [-0.0032189  0.3105985  0.0440436  1.5542735]]\n",
    "    Adam: Wts after 2 iter\n",
    "    [[ 1.5640523  0.2001572  0.778738   2.0408932]\n",
    "     [ 1.667558  -0.7772779  0.7500884  0.0486428]\n",
    "     [ 0.0967811  0.2105985 -0.0559564  1.6542735]]\n",
    "    Adam: Wts after 3 iter\n",
    "    [[ 1.4640523  0.1001572  0.678738   1.9408932]\n",
    "     [ 1.567558  -0.6772779  0.6500884  0.1486428]\n",
    "     [ 0.1967811  0.1105985 -0.1559564  1.7542735]]  "
   ]
  },
  {
   "cell_type": "markdown",
   "metadata": {},
   "source": [
    "## Task 5) Write network training methods\n",
    "\n",
    "Implement methods in `network.py` to actually train the network, using all the building blocks that you have created. The methods to implement are:\n",
    "\n",
    "- `predict`\n",
    "- `fit`. Add an optional parameter `print_every=1` that controls the frequency (in iterations) with which to wait before printing out the loss and iteration number."
   ]
  },
  {
   "cell_type": "markdown",
   "metadata": {},
   "source": [
    "## Task 6) Overfitting a convolutional neural network\n",
    "\n",
    "Usually we try to prevent overfitting, but we can use it as a valuable debugging tool to test out a complex backprop-style neural network. Assuming everything is working, it is almost always the case that we should be able to overfit a tiny dataset with a huge model with tons of parameters (i.e. your CNN). You will use this strategy to verify that your network is working.\n",
    "\n",
    "Let's use a small amount of real data from STL-10. If everything is working properly, the network should overfit and you should see a significant drop in the loss from its starting value of ~2.3."
   ]
  },
  {
   "cell_type": "markdown",
   "metadata": {},
   "source": [
    "### 6a) Move your `preprocess_data.py` from the MLP project\n",
    "\n",
    "Make the one following change:\n",
    "\n",
    "- Re-arrange dimensions of `imgs` so that when it is returned, `shape=(Num imgs, RGB color chans, height, width)` (No longer flatten non-batch dimensions)"
   ]
  },
  {
   "cell_type": "code",
   "execution_count": 7,
   "metadata": {},
   "outputs": [],
   "source": [
    "import load_stl10_dataset\n",
    "import preprocess_data\n",
    "from network import ConvNet4\n",
    "import optimizer"
   ]
  },
  {
   "cell_type": "markdown",
   "metadata": {},
   "source": [
    "### 6b) Load in STL-10 at 16x16 resolution\n",
    "\n",
    "If you don't want to wait for STL-10 to download from the internet and resize, copy over your data and numpy folders from your MLP project.\n",
    "\n",
    "**Notes:**\n",
    "- You will need to download the new version of `load_stl10_dataset`.\n",
    "- The different train/test split here won't work if you hard coded the proportions in your `create_splits` implementation! *This isn't catastrophic, it just means that it will take longer to compute accuracy on the validation set.*"
   ]
  },
  {
   "cell_type": "code",
   "execution_count": 24,
   "metadata": {},
   "outputs": [
    {
     "name": "stdout",
     "output_type": "stream",
     "text": [
      "Images are: (5000, 96, 96, 3)\n",
      "Labels are: (5000,)\n",
      "Resizing 5000 images to 16x16...Done!\n",
      "Saving Numpy arrays the images and labels to ./numpy...Done!\n",
      "Train data shape:  (4548, 3, 16, 16)\n",
      "Train labels shape:  (4548,)\n",
      "Test data shape:  (400, 3, 16, 16)\n",
      "Test labels shape:  (400,)\n",
      "Validation data shape:  (2, 3, 16, 16)\n",
      "Validation labels shape:  (2,)\n",
      "dev data shape:  (50, 3, 16, 16)\n",
      "dev labels shape:  (50,)\n"
     ]
    }
   ],
   "source": [
    "# Download the STL-10 dataset from the internet, convert it to Numpy ndarray, resize to 16x16\n",
    "# cache it locally on your computer for faster loading next time.\n",
    "load_stl10_dataset.purge_cached_dataset()\n",
    "stl_imgs, stl_labels = load_stl10_dataset.load(scale_fact=6)\n",
    "# preprocess\n",
    "stl_imgs, stl_labels = preprocess_data.preprocess_stl(stl_imgs, stl_labels)\n",
    "# create splits\n",
    "x_train, y_train, x_test, y_test, x_val, y_val, x_dev, y_dev = preprocess_data.create_splits(\n",
    "    stl_imgs, stl_labels, n_train_samps=4548, n_test_samps=400, n_valid_samps=2, n_dev_samps=50)\n",
    "\n",
    "print ('Train data shape: ', x_train.shape)\n",
    "print ('Train labels shape: ', y_train.shape)\n",
    "print ('Test data shape: ', x_test.shape)\n",
    "print ('Test labels shape: ', y_test.shape)\n",
    "print ('Validation data shape: ', x_val.shape)\n",
    "print ('Validation labels shape: ', y_val.shape)\n",
    "print ('dev data shape: ', x_dev.shape)\n",
    "print ('dev labels shape: ', y_dev.shape)\n",
    "\n",
    "classes = np.loadtxt(os.path.join('data', 'stl10_binary', 'class_names.txt'), dtype=str)"
   ]
  },
  {
   "cell_type": "markdown",
   "metadata": {},
   "source": [
    "### 6c) Train and overfit the network on a small STL-10 sample with each optimizer\n",
    "\n",
    "**Goal:** If your network works, you should see a drop in loss over epochs to 0.\n",
    "\n",
    "In 3 seperate cells below\n",
    "\n",
    "- Create 3 different `ConvNet4` networks.\n",
    "- Compile each with a different optimizer (each net uses a different optimizer).\n",
    "- Train each on the **dev** set and validate on the tiny validation set (we dont care about out-of-training-set performance here).\n",
    "\n",
    "You will be making plots demonstrating the overfitting for each optimizer below. **You should train the nets with the same number of epochs such that at least 2/3 of them clearly show loss convergence to a small value; one optimizer may not converge yet, and that's ok**. Cut off the simulations based on the 2/3 that do converge.\n",
    "\n",
    "Guidelines:\n",
    "\n",
    "- Weight scales and learning rates of `1e-2` should work well.\n",
    "- Start by testing the Adam optimizer.\n",
    "- Remember that the input shape is (3, 16, 16). You need to specify this to the network constructor.\n",
    "- The hyperparameters are up to you, though I wouldn't recommend a batch size that is too small (close to 1), otherwise it may be tricky to see whether the loss is actually decreasing on average.\n",
    "- Decreasing `acc_freq` will make the `fit` function evaluate the training and validation accuracy more often. This is a computationally intensive process, so small values come with an increase in training time. On the other hand, checking the accuracy too infrequently means you won't know whether the network is trending toward overfitting the training data, which is what you're checking for.\n",
    "- Each training session takes ~30 mins on my laptop.\n",
    "\n",
    "**Caveat emptor:** Training convolutional networks is notoriously computationally intensive. If you experiment with hyperparameters, each training session may take several hours. Use the loss/accuracy print outs to quickly gauge whether your hyperparameter choices are getting your network to decrease in loss. Monitor print outs and interrupt the Jupyter kernel if things are not trending in the right direction. Consider using the Davis 102 iMacs if this is running too slow on your laptop."
   ]
  },
  {
   "cell_type": "code",
   "execution_count": 25,
   "metadata": {},
   "outputs": [
    {
     "name": "stdout",
     "output_type": "stream",
     "text": [
      "Starting to train...\n",
      "50 iterations. 1 iter/epoch.\n",
      "Image shape should be and is: (50, 3, 22, 22) (50, 3, 22, 22)\n",
      "batch_sz=50, n_chan=3, img_x=16, img_y=16\n",
      "n_kers=32, n_ker_chans=3, ker_x=7, ker_y=7\n",
      "pad_x=3, pad_y=3\n",
      "Padded shape is (50, 3, 22, 22)\n",
      "Time taken for iteration 0:  0.16483778953552247\n",
      "Image shape should be and is: (50, 3, 22, 22) (50, 3, 22, 22)\n",
      "batch_sz=50, n_chan=3, img_x=16, img_y=16\n",
      "n_kers=32, n_ker_chans=3, ker_x=7, ker_y=7\n",
      "pad_x=3, pad_y=3\n",
      "Padded shape is (50, 3, 22, 22)\n",
      "Image shape should be and is: (50, 3, 22, 22) (50, 3, 22, 22)\n",
      "batch_sz=50, n_chan=3, img_x=16, img_y=16\n",
      "n_kers=32, n_ker_chans=3, ker_x=7, ker_y=7\n",
      "pad_x=3, pad_y=3\n",
      "Padded shape is (50, 3, 22, 22)\n",
      "Image shape should be and is: (50, 3, 22, 22) (50, 3, 22, 22)\n",
      "batch_sz=50, n_chan=3, img_x=16, img_y=16\n",
      "n_kers=32, n_ker_chans=3, ker_x=7, ker_y=7\n",
      "pad_x=3, pad_y=3\n",
      "Padded shape is (50, 3, 22, 22)\n",
      "Image shape should be and is: (50, 3, 22, 22) (50, 3, 22, 22)\n",
      "batch_sz=50, n_chan=3, img_x=16, img_y=16\n",
      "n_kers=32, n_ker_chans=3, ker_x=7, ker_y=7\n",
      "pad_x=3, pad_y=3\n",
      "Padded shape is (50, 3, 22, 22)\n",
      "Image shape should be and is: (50, 3, 22, 22) (50, 3, 22, 22)\n",
      "batch_sz=50, n_chan=3, img_x=16, img_y=16\n",
      "n_kers=32, n_ker_chans=3, ker_x=7, ker_y=7\n",
      "pad_x=3, pad_y=3\n",
      "Padded shape is (50, 3, 22, 22)\n",
      "Image shape should be and is: (50, 3, 22, 22) (50, 3, 22, 22)\n",
      "batch_sz=50, n_chan=3, img_x=16, img_y=16\n",
      "n_kers=32, n_ker_chans=3, ker_x=7, ker_y=7\n",
      "pad_x=3, pad_y=3\n",
      "Padded shape is (50, 3, 22, 22)\n",
      "Image shape should be and is: (50, 3, 22, 22) (50, 3, 22, 22)\n",
      "batch_sz=50, n_chan=3, img_x=16, img_y=16\n",
      "n_kers=32, n_ker_chans=3, ker_x=7, ker_y=7\n",
      "pad_x=3, pad_y=3\n",
      "Padded shape is (50, 3, 22, 22)\n",
      "Image shape should be and is: (50, 3, 22, 22) (50, 3, 22, 22)\n",
      "batch_sz=50, n_chan=3, img_x=16, img_y=16\n",
      "n_kers=32, n_ker_chans=3, ker_x=7, ker_y=7\n",
      "pad_x=3, pad_y=3\n",
      "Padded shape is (50, 3, 22, 22)\n",
      "Image shape should be and is: (50, 3, 22, 22) (50, 3, 22, 22)\n",
      "batch_sz=50, n_chan=3, img_x=16, img_y=16\n",
      "n_kers=32, n_ker_chans=3, ker_x=7, ker_y=7\n",
      "pad_x=3, pad_y=3\n",
      "Padded shape is (50, 3, 22, 22)\n",
      "Image shape should be and is: (50, 3, 22, 22) (50, 3, 22, 22)\n",
      "Image shape should be and is: (2, 3, 22, 22) (2, 3, 22, 22)\n",
      "  Train acc: 0.22, Val acc: 0.0\n",
      "Image shape should be and is: (50, 3, 22, 22) (50, 3, 22, 22)\n",
      "batch_sz=50, n_chan=3, img_x=16, img_y=16\n",
      "n_kers=32, n_ker_chans=3, ker_x=7, ker_y=7\n",
      "pad_x=3, pad_y=3\n",
      "Padded shape is (50, 3, 22, 22)\n",
      "Image shape should be and is: (50, 3, 22, 22) (50, 3, 22, 22)\n",
      "batch_sz=50, n_chan=3, img_x=16, img_y=16\n",
      "n_kers=32, n_ker_chans=3, ker_x=7, ker_y=7\n",
      "pad_x=3, pad_y=3\n",
      "Padded shape is (50, 3, 22, 22)\n",
      "Image shape should be and is: (50, 3, 22, 22) (50, 3, 22, 22)\n",
      "batch_sz=50, n_chan=3, img_x=16, img_y=16\n",
      "n_kers=32, n_ker_chans=3, ker_x=7, ker_y=7\n",
      "pad_x=3, pad_y=3\n",
      "Padded shape is (50, 3, 22, 22)\n",
      "Image shape should be and is: (50, 3, 22, 22) (50, 3, 22, 22)\n",
      "batch_sz=50, n_chan=3, img_x=16, img_y=16\n",
      "n_kers=32, n_ker_chans=3, ker_x=7, ker_y=7\n",
      "pad_x=3, pad_y=3\n",
      "Padded shape is (50, 3, 22, 22)\n",
      "Image shape should be and is: (50, 3, 22, 22) (50, 3, 22, 22)\n",
      "batch_sz=50, n_chan=3, img_x=16, img_y=16\n",
      "n_kers=32, n_ker_chans=3, ker_x=7, ker_y=7\n",
      "pad_x=3, pad_y=3\n",
      "Padded shape is (50, 3, 22, 22)\n"
     ]
    },
    {
     "ename": "KeyboardInterrupt",
     "evalue": "",
     "output_type": "error",
     "traceback": [
      "\u001b[1;31m---------------------------------------------------------------------------\u001b[0m",
      "\u001b[1;31mKeyboardInterrupt\u001b[0m                         Traceback (most recent call last)",
      "\u001b[1;32m<ipython-input-25-8ef34d67ba05>\u001b[0m in \u001b[0;36m<module>\u001b[1;34m\u001b[0m\n\u001b[0;32m      5\u001b[0m \u001b[0mnet1\u001b[0m \u001b[1;33m=\u001b[0m \u001b[0mConvNet4\u001b[0m\u001b[1;33m(\u001b[0m\u001b[0minput_shape\u001b[0m\u001b[1;33m=\u001b[0m\u001b[1;33m(\u001b[0m\u001b[1;36m3\u001b[0m\u001b[1;33m,\u001b[0m \u001b[1;36m16\u001b[0m\u001b[1;33m,\u001b[0m\u001b[1;36m16\u001b[0m\u001b[1;33m)\u001b[0m\u001b[1;33m,\u001b[0m \u001b[0mwt_scale\u001b[0m \u001b[1;33m=\u001b[0m \u001b[1;36m0.01\u001b[0m\u001b[1;33m)\u001b[0m\u001b[1;33m\u001b[0m\u001b[1;33m\u001b[0m\u001b[0m\n\u001b[0;32m      6\u001b[0m \u001b[0mnet1\u001b[0m\u001b[1;33m.\u001b[0m\u001b[0mcompile\u001b[0m\u001b[1;33m(\u001b[0m\u001b[1;34m'adam'\u001b[0m\u001b[1;33m,\u001b[0m \u001b[0mlr\u001b[0m \u001b[1;33m=\u001b[0m \u001b[1;36m0.01\u001b[0m\u001b[1;33m)\u001b[0m\u001b[1;33m\u001b[0m\u001b[1;33m\u001b[0m\u001b[0m\n\u001b[1;32m----> 7\u001b[1;33m \u001b[0madam_loss\u001b[0m\u001b[1;33m,\u001b[0m \u001b[0madam_train_acc\u001b[0m\u001b[1;33m,\u001b[0m \u001b[0madam_val_acc\u001b[0m \u001b[1;33m=\u001b[0m \u001b[0mnet1\u001b[0m\u001b[1;33m.\u001b[0m\u001b[0mfit\u001b[0m\u001b[1;33m(\u001b[0m\u001b[0mx_dev\u001b[0m\u001b[1;33m,\u001b[0m \u001b[0my_dev\u001b[0m\u001b[1;33m,\u001b[0m\u001b[0mx_val\u001b[0m\u001b[1;33m,\u001b[0m \u001b[0my_val\u001b[0m\u001b[1;33m,\u001b[0m\u001b[0mmini_batch_sz\u001b[0m\u001b[1;33m=\u001b[0m\u001b[1;36m50\u001b[0m\u001b[1;33m,\u001b[0m \u001b[0mn_epochs\u001b[0m\u001b[1;33m=\u001b[0m\u001b[1;36m50\u001b[0m\u001b[1;33m,\u001b[0m \u001b[0macc_freq\u001b[0m\u001b[1;33m=\u001b[0m\u001b[1;36m10\u001b[0m\u001b[1;33m)\u001b[0m\u001b[1;33m\u001b[0m\u001b[1;33m\u001b[0m\u001b[0m\n\u001b[0m",
      "\u001b[1;32m~\\Desktop\\Neural Networks\\Proj3 git\\network.py\u001b[0m in \u001b[0;36mfit\u001b[1;34m(self, x_train, y_train, x_validate, y_validate, mini_batch_sz, n_epochs, acc_freq)\u001b[0m\n\u001b[0;32m    111\u001b[0m             \u001b[0my_batch\u001b[0m \u001b[1;33m=\u001b[0m \u001b[0my_train\u001b[0m\u001b[1;33m[\u001b[0m\u001b[0mindex\u001b[0m\u001b[1;33m]\u001b[0m\u001b[1;33m\u001b[0m\u001b[1;33m\u001b[0m\u001b[0m\n\u001b[0;32m    112\u001b[0m             \u001b[0mloss\u001b[0m \u001b[1;33m=\u001b[0m \u001b[0mself\u001b[0m\u001b[1;33m.\u001b[0m\u001b[0mforward\u001b[0m\u001b[1;33m(\u001b[0m\u001b[0mfeatures_batch\u001b[0m\u001b[1;33m,\u001b[0m \u001b[0my_batch\u001b[0m\u001b[1;33m)\u001b[0m\u001b[1;33m\u001b[0m\u001b[1;33m\u001b[0m\u001b[0m\n\u001b[1;32m--> 113\u001b[1;33m             \u001b[0mself\u001b[0m\u001b[1;33m.\u001b[0m\u001b[0mbackward\u001b[0m\u001b[1;33m(\u001b[0m\u001b[0my_batch\u001b[0m\u001b[1;33m)\u001b[0m\u001b[1;33m\u001b[0m\u001b[1;33m\u001b[0m\u001b[0m\n\u001b[0m\u001b[0;32m    114\u001b[0m             \u001b[0mself\u001b[0m\u001b[1;33m.\u001b[0m\u001b[0mloss_history\u001b[0m\u001b[1;33m.\u001b[0m\u001b[0mappend\u001b[0m\u001b[1;33m(\u001b[0m\u001b[0mloss\u001b[0m\u001b[1;33m)\u001b[0m\u001b[1;33m\u001b[0m\u001b[1;33m\u001b[0m\u001b[0m\n\u001b[0;32m    115\u001b[0m             \u001b[1;31m#print(\"loss\", loss)\u001b[0m\u001b[1;33m\u001b[0m\u001b[1;33m\u001b[0m\u001b[1;33m\u001b[0m\u001b[0m\n",
      "\u001b[1;32m~\\Desktop\\Neural Networks\\Proj3 git\\network.py\u001b[0m in \u001b[0;36mbackward\u001b[1;34m(self, y)\u001b[0m\n\u001b[0;32m    300\u001b[0m         \u001b[0md_b\u001b[0m \u001b[1;33m=\u001b[0m \u001b[1;32mNone\u001b[0m\u001b[1;33m\u001b[0m\u001b[1;33m\u001b[0m\u001b[0m\n\u001b[0;32m    301\u001b[0m         \u001b[1;32mfor\u001b[0m \u001b[0mi\u001b[0m \u001b[1;32min\u001b[0m \u001b[0mrange\u001b[0m \u001b[1;33m(\u001b[0m\u001b[0mlen\u001b[0m \u001b[1;33m(\u001b[0m\u001b[0mself\u001b[0m\u001b[1;33m.\u001b[0m\u001b[0mlayers\u001b[0m\u001b[1;33m)\u001b[0m\u001b[1;33m)\u001b[0m\u001b[1;33m:\u001b[0m\u001b[1;33m\u001b[0m\u001b[1;33m\u001b[0m\u001b[0m\n\u001b[1;32m--> 302\u001b[1;33m             \u001b[0md_upstream\u001b[0m\u001b[1;33m,\u001b[0m \u001b[0md_wts\u001b[0m\u001b[1;33m,\u001b[0m \u001b[0md_b\u001b[0m \u001b[1;33m=\u001b[0m \u001b[0mself\u001b[0m\u001b[1;33m.\u001b[0m\u001b[0mlayers\u001b[0m\u001b[1;33m[\u001b[0m\u001b[1;33m-\u001b[0m\u001b[1;33m(\u001b[0m\u001b[0mi\u001b[0m\u001b[1;33m+\u001b[0m\u001b[1;36m1\u001b[0m\u001b[1;33m)\u001b[0m\u001b[1;33m]\u001b[0m\u001b[1;33m.\u001b[0m\u001b[0mbackward\u001b[0m\u001b[1;33m(\u001b[0m\u001b[0md_upstream\u001b[0m\u001b[1;33m,\u001b[0m \u001b[0my\u001b[0m\u001b[1;33m)\u001b[0m\u001b[1;33m\u001b[0m\u001b[1;33m\u001b[0m\u001b[0m\n\u001b[0m\u001b[0;32m    303\u001b[0m \u001b[1;33m\u001b[0m\u001b[0m\n\u001b[0;32m    304\u001b[0m \u001b[1;33m\u001b[0m\u001b[0m\n",
      "\u001b[1;32m~\\Desktop\\Neural Networks\\Proj3 git\\layer.py\u001b[0m in \u001b[0;36mbackward\u001b[1;34m(self, d_upstream, y)\u001b[0m\n\u001b[0;32m    220\u001b[0m         \u001b[0md_net_in\u001b[0m \u001b[1;33m=\u001b[0m \u001b[0mself\u001b[0m\u001b[1;33m.\u001b[0m\u001b[0mbackward_netAct_to_netIn\u001b[0m\u001b[1;33m(\u001b[0m\u001b[0md_upstream\u001b[0m\u001b[1;33m,\u001b[0m \u001b[0my\u001b[0m\u001b[1;33m)\u001b[0m\u001b[1;33m\u001b[0m\u001b[1;33m\u001b[0m\u001b[0m\n\u001b[0;32m    221\u001b[0m \u001b[1;31m#         print('d_net_in', d_net_in)\u001b[0m\u001b[1;33m\u001b[0m\u001b[1;33m\u001b[0m\u001b[1;33m\u001b[0m\u001b[0m\n\u001b[1;32m--> 222\u001b[1;33m         \u001b[0mdprev_net_act\u001b[0m\u001b[1;33m,\u001b[0m \u001b[0mself\u001b[0m\u001b[1;33m.\u001b[0m\u001b[0md_wts\u001b[0m\u001b[1;33m,\u001b[0m \u001b[0mself\u001b[0m\u001b[1;33m.\u001b[0m\u001b[0md_b\u001b[0m \u001b[1;33m=\u001b[0m \u001b[0mself\u001b[0m\u001b[1;33m.\u001b[0m\u001b[0mbackward_netIn_to_prevLayer_netAct\u001b[0m\u001b[1;33m(\u001b[0m\u001b[0md_net_in\u001b[0m\u001b[1;33m)\u001b[0m\u001b[1;33m\u001b[0m\u001b[1;33m\u001b[0m\u001b[0m\n\u001b[0m\u001b[0;32m    223\u001b[0m         \u001b[1;32mreturn\u001b[0m \u001b[0mdprev_net_act\u001b[0m\u001b[1;33m,\u001b[0m \u001b[0mself\u001b[0m\u001b[1;33m.\u001b[0m\u001b[0md_wts\u001b[0m\u001b[1;33m,\u001b[0m \u001b[0mself\u001b[0m\u001b[1;33m.\u001b[0m\u001b[0md_b\u001b[0m\u001b[1;33m\u001b[0m\u001b[1;33m\u001b[0m\u001b[0m\n\u001b[0;32m    224\u001b[0m \u001b[1;33m\u001b[0m\u001b[0m\n",
      "\u001b[1;32m~\\Desktop\\Neural Networks\\Proj3 git\\layer.py\u001b[0m in \u001b[0;36mbackward_netIn_to_prevLayer_netAct\u001b[1;34m(self, d_upstream)\u001b[0m\n\u001b[0;32m    578\u001b[0m                         \u001b[1;31m# the filter's weights – all globally weighted by the upstream gradient\u001b[0m\u001b[1;33m\u001b[0m\u001b[1;33m\u001b[0m\u001b[1;33m\u001b[0m\u001b[0m\n\u001b[0;32m    579\u001b[0m                         \u001b[1;31m# at the current (x, y) position.\u001b[0m\u001b[1;33m\u001b[0m\u001b[1;33m\u001b[0m\u001b[1;33m\u001b[0m\u001b[0m\n\u001b[1;32m--> 580\u001b[1;33m                         \u001b[0mdprev_net_act\u001b[0m\u001b[1;33m[\u001b[0m\u001b[0mn\u001b[0m\u001b[1;33m,\u001b[0m \u001b[1;33m:\u001b[0m\u001b[1;33m,\u001b[0m \u001b[0my\u001b[0m\u001b[1;33m:\u001b[0m\u001b[0my\u001b[0m\u001b[1;33m+\u001b[0m\u001b[0mker_sz\u001b[0m\u001b[1;33m,\u001b[0m \u001b[0mx\u001b[0m\u001b[1;33m:\u001b[0m\u001b[0mx\u001b[0m\u001b[1;33m+\u001b[0m\u001b[0mker_sz\u001b[0m\u001b[1;33m]\u001b[0m \u001b[1;33m+=\u001b[0m \u001b[0md_upstream\u001b[0m\u001b[1;33m[\u001b[0m\u001b[0mn\u001b[0m\u001b[1;33m,\u001b[0m \u001b[0mk\u001b[0m\u001b[1;33m,\u001b[0m \u001b[0my\u001b[0m\u001b[1;33m,\u001b[0m \u001b[0mx\u001b[0m\u001b[1;33m]\u001b[0m \u001b[1;33m*\u001b[0m \u001b[0mkers\u001b[0m\u001b[1;33m[\u001b[0m\u001b[0mk\u001b[0m\u001b[1;33m]\u001b[0m\u001b[1;33m\u001b[0m\u001b[1;33m\u001b[0m\u001b[0m\n\u001b[0m\u001b[0;32m    581\u001b[0m \u001b[1;33m\u001b[0m\u001b[0m\n\u001b[0;32m    582\u001b[0m                         \u001b[1;31m# Filter wts updated based on upstream change times inputs present in the filter\u001b[0m\u001b[1;33m\u001b[0m\u001b[1;33m\u001b[0m\u001b[1;33m\u001b[0m\u001b[0m\n",
      "\u001b[1;31mKeyboardInterrupt\u001b[0m: "
     ]
    }
   ],
   "source": [
    "#Adam\n",
    "adam_loss = None\n",
    "adam_train_acc = None\n",
    "adam_val_acc = None\n",
    "net1 = ConvNet4(input_shape=(3, 16,16), wt_scale = 0.01)\n",
    "net1.compile('adam', lr = 0.01)\n",
    "adam_loss, adam_train_acc, adam_val_acc = net1.fit(x_dev, y_dev,x_val, y_val,mini_batch_sz=50, n_epochs=50, acc_freq=10)"
   ]
  },
  {
   "cell_type": "code",
   "execution_count": null,
   "metadata": {},
   "outputs": [],
   "source": [
    "# SGD-M\n",
    "sgd_m_loss = None\n",
    "sgd_m_train_acc = None\n",
    "sgd_m_val_acc = None \n",
    "net2 = ConvNet4(input_shape = (3,16,16), wt_scale = 0.01)\n",
    "net2.compile('sgd_momentum', lr = 0.01)\n",
    "sgd_m_loss, sgd_m_train_acc, sgd_m_val_acc = net2.fit(x_dev, y_dev,x_val, y_val,mini_batch_sz=100, n_epochs=50, acc_freq=4)"
   ]
  },
  {
   "cell_type": "code",
   "execution_count": null,
   "metadata": {},
   "outputs": [],
   "source": [
    "# SGD\n",
    "\n",
    "sgd_loss = None\n",
    "sgd_train_acc = None\n",
    "sgd_val_acc = None \n",
    "net3 = ConvNet4(input_shape = (3,16,16), wt_scale = 0.01)\n",
    "net3.compile('sgd', lr = 0.01)\n",
    "sgd_loss, sgd_train_acc, sgd_val_acc = net3.fit(x_dev, y_dev,x_val, y_val,mini_batch_sz=100, n_epochs=50, acc_freq=3)"
   ]
  },
  {
   "cell_type": "markdown",
   "metadata": {},
   "source": [
    "**Question 3**: Why does decreasing the mini-batch size make the loss print-outs more erratic?"
   ]
  },
  {
   "cell_type": "markdown",
   "metadata": {},
   "source": [
    "### 6d) Evaluate the different optimizers\n",
    "\n",
    "Make 2 \"high quality\" plots showing the following\n",
    "\n",
    "- Plot the accuracy (y axis) for the three optimizers as a function of training epoch (x axis).\n",
    "- Plot the loss (y axis) for the three optimizers as a function of training iteration (x axis).\n",
    "\n",
    "A high quality plot consists of:\n",
    "- A useful title\n",
    "- X and Y axis labels\n",
    "- A legend"
   ]
  },
  {
   "cell_type": "code",
   "execution_count": 28,
   "metadata": {},
   "outputs": [
    {
     "data": {
      "text/plain": [
       "[<matplotlib.lines.Line2D at 0x1d8dba38a48>]"
      ]
     },
     "execution_count": 28,
     "metadata": {},
     "output_type": "execute_result"
    },
    {
     "data": {
      "image/png": "[encoded data removed]",
      "text/plain": [
       "<Figure size 432x288 with 1 Axes>"
      ]
     },
     "metadata": {
      "needs_background": "light"
     },
     "output_type": "display_data"
    }
   ],
   "source": [
    "# old_adam_loss = adam_loss\n",
    "# old_adam_train_acc = adam_train_acc\n",
    "# # old_adam_val_acc = adam_val_acc\n",
    "plt.plot(net1.loss_history)\n",
    "# plt.plot(adam_train_acc)\n",
    "# print(adam_train_acc)\n",
    "# print(adam_val_acc)"
   ]
  },
  {
   "cell_type": "code",
   "execution_count": null,
   "metadata": {},
   "outputs": [],
   "source": []
  },
  {
   "cell_type": "markdown",
   "metadata": {},
   "source": [
    "**Question 4**: Which optimizer works best and why do think it is best?\n",
    "\n",
    "**Question 5**: What is happening with the training set accuracy and why?"
   ]
  },
  {
   "cell_type": "markdown",
   "metadata": {},
   "source": [
    "## Task 7: Training convolutional neural network on STL-10"
   ]
  },
  {
   "cell_type": "markdown",
   "metadata": {},
   "source": [
    "### 7a) Load in STL-10 at 32x32 resolution"
   ]
  },
  {
   "cell_type": "code",
   "execution_count": 8,
   "metadata": {},
   "outputs": [
    {
     "name": "stdout",
     "output_type": "stream",
     "text": [
      "Images are: (5000, 96, 96, 3)\n",
      "Labels are: (5000,)\n",
      "Resizing 5000 images to 32x32...Done!\n",
      "Saving Numpy arrays the images and labels to ./numpy...Done!\n",
      "Train data shape:  (4548, 3, 32, 32)\n",
      "Train labels shape:  (4548,)\n",
      "Test data shape:  (400, 3, 32, 32)\n",
      "Test labels shape:  (400,)\n",
      "Validation data shape:  (2, 3, 32, 32)\n",
      "Validation labels shape:  (2,)\n",
      "dev data shape:  (50, 3, 32, 32)\n",
      "dev labels shape:  (50,)\n"
     ]
    }
   ],
   "source": [
    "# Download the STL-10 dataset from the internet, convert it to Numpy ndarray, resize to 32x32\n",
    "# cache it locally on your computer for faster loading next time.\n",
    "load_stl10_dataset.purge_cached_dataset()\n",
    "stl_imgs, stl_labels = load_stl10_dataset.load(scale_fact=3)\n",
    "# preprocess\n",
    "stl_imgs, stl_labels = preprocess_data.preprocess_stl(stl_imgs, stl_labels)\n",
    "# create splits\n",
    "x_train, y_train, x_test, y_test, x_val, y_val, x_dev, y_dev = preprocess_data.create_splits(\n",
    "    stl_imgs, stl_labels, n_train_samps=4548, n_test_samps=400, n_valid_samps=2, n_dev_samps=50)\n",
    "\n",
    "print ('Train data shape: ', x_train.shape)\n",
    "print ('Train labels shape: ', y_train.shape)\n",
    "print ('Test data shape: ', x_test.shape)\n",
    "print ('Test labels shape: ', y_test.shape)\n",
    "print ('Validation data shape: ', x_val.shape)\n",
    "print ('Validation labels shape: ', y_val.shape)\n",
    "print ('dev data shape: ', x_dev.shape)\n",
    "print ('dev labels shape: ', y_dev.shape)\n",
    "\n",
    "classes = np.loadtxt(os.path.join('data', 'stl10_binary', 'class_names.txt'), dtype=str)"
   ]
  },
  {
   "cell_type": "markdown",
   "metadata": {},
   "source": [
    "### 7b) Set up accelerated convolution and max pooling layers\n",
    "\n",
    "As you may have noticed, we had to downsize STL-10 to 16x16 resolution to train the network on the dev set (N=50) in a reasonable amount of time. The training set is N=4000, how will we ever manage to process that amount of data!?\n",
    "\n",
    "On one hand, this is an unfortunate inevitable reality of working with large (\"big\") datasets: you can easily find a dataset that is too time consuming to process for any computer, despite how fast/many CPU/GPUs it has.\n",
    "\n",
    "On the other hand, we can do better for this project and STL-10 :) If you were to time (profile) different parts of the training process, you'd notice that largest bottleneck is convolution and max pooling operations (both forward/backward). You implemented those operations intuitively, which does not always yield the best performance. **By swapping out forward/backward convolution and maxpooling for implementations that use different algorithms (im2col, reshaping) that are compiled to C code, we will speed up training up by several orders of magnitude**.\n",
    "\n",
    "Follow these steps to subsitute in the \"accelerated\" convolution and max pooling layers.\n",
    "\n",
    "- Install the `cython` python package: `pip3 install cython` (or `pip3 install cython --user` if working in Davis 102)\n",
    "- Dowload files `im2col_cython.pyx`, `accelerated_layer.py`, `setup.py` from the project website. Put them in your base project folder.\n",
    "- Open terminal, `cd` to Project directory.\n",
    "- Compile the im2col functions: `python3 setup.py build_ext --inplace`. A `.c` and `.so` file should have appeared in your project folder.\n",
    "- Restart Jupyter Notebook kernel\n",
    "- Create a class called `Conv4NetAccel` in `network.py` by copy-pasting the contents of `Conv4Net`. Import `accelerated_layer` at the top and replace the `Conv2D` and `MaxPool2D` layers with `Conv2DAccel` and `MaxPool2DAccel`."
   ]
  },
  {
   "cell_type": "markdown",
   "metadata": {},
   "source": [
    "### 7c) Training convolutional neural network on STL-10\n",
    "\n",
    "You are now ready to train on the entire training set.\n",
    "\n",
    "- Create a `Conv4NetAccel` object with hyperparameters of your choice.\n",
    "- Your goal is to achieve 45% accuracy on the test and/or validation set.\n",
    "\n",
    "Notes:\n",
    "\n",
    "- I suggest using your intuition about hyperparameters and over/underfitting to guide your choice, rather than a grid search. This should not be overly challenging.\n",
    "- Use the best / most efficient optimizer based on your prior analysis.\n",
    "- It should take on the order of 1 sec per training iteration. If that's way off, seek help as something could be wrong with running the acclerated code."
   ]
  },
  {
   "cell_type": "code",
   "execution_count": 2,
   "metadata": {},
   "outputs": [],
   "source": [
    "from network import ConvNet4Accel"
   ]
  },
  {
   "cell_type": "code",
   "execution_count": null,
   "metadata": {},
   "outputs": [
    {
     "name": "stdout",
     "output_type": "stream",
     "text": [
      "Starting to train...\n",
      "22700 iterations. 454 iter/epoch.\n",
      "Time taken for iteration 0:  0.0017168283462524413\n",
      "  Train acc: 0.116, Val acc: 0.5\n",
      "  Train acc: 0.088, Val acc: 0.5\n",
      "  Train acc: 0.104, Val acc: 0.5\n",
      "  Train acc: 0.09, Val acc: 0.5\n",
      "  Train acc: 0.084, Val acc: 0.5\n",
      "  Train acc: 0.094, Val acc: 0.5\n",
      "  Train acc: 0.096, Val acc: 0.0\n",
      "  Train acc: 0.126, Val acc: 0.0\n",
      "  Train acc: 0.084, Val acc: 0.0\n",
      "  Train acc: 0.116, Val acc: 0.0\n",
      "  Train acc: 0.09, Val acc: 0.5\n",
      "  Train acc: 0.102, Val acc: 0.5\n",
      "  Train acc: 0.074, Val acc: 0.0\n",
      "  Train acc: 0.08, Val acc: 0.5\n",
      "  Train acc: 0.114, Val acc: 0.5\n",
      "  Train acc: 0.08, Val acc: 0.5\n",
      "  Train acc: 0.07, Val acc: 0.0\n",
      "  Train acc: 0.094, Val acc: 0.0\n",
      "  Train acc: 0.096, Val acc: 0.5\n",
      "  Train acc: 0.092, Val acc: 0.5\n",
      "  Train acc: 0.096, Val acc: 0.0\n",
      "  Train acc: 0.108, Val acc: 0.0\n",
      "  Train acc: 0.09, Val acc: 0.5\n"
     ]
    }
   ],
   "source": [
    "an_loss = None\n",
    "an_train_acc = None\n",
    "an_val_acc = None\n",
    "\n",
    "accel_net1 = ConvNet4Accel(input_shape = (3,32,32), wt_scale = 0.001, reg = 0.001)\n",
    "accel_net1.compile('adam', lr = 0.01)\n",
    "\n",
    "an_loss, an_train_acc, an_val_acc = accel_net1.fit(x_train, y_train,x_val, y_val,mini_batch_sz=10, n_epochs=50, acc_freq=50)"
   ]
  },
  {
   "cell_type": "code",
   "execution_count": 16,
   "metadata": {},
   "outputs": [
    {
     "name": "stdout",
     "output_type": "stream",
     "text": [
      "Starting to train...\n",
      "20430 iterations. 454 iter/epoch.\n",
      "Time taken for iteration 0:  0.0020338853200276693\n",
      "  Train acc: 0.142, Val acc: 0.0\n",
      "  Train acc: 0.092, Val acc: 0.0\n",
      "  Train acc: 0.108, Val acc: 0.0\n",
      "  Train acc: 0.104, Val acc: 0.0\n",
      "  Train acc: 0.094, Val acc: 0.0\n",
      "  Train acc: 0.132, Val acc: 0.0\n",
      "  Train acc: 0.152, Val acc: 0.0\n",
      "  Train acc: 0.146, Val acc: 0.0\n",
      "  Train acc: 0.15, Val acc: 0.0\n",
      "  Train acc: 0.178, Val acc: 0.0\n",
      "  Train acc: 0.166, Val acc: 0.0\n",
      "  Train acc: 0.144, Val acc: 0.0\n",
      "  Train acc: 0.17, Val acc: 0.0\n",
      "  Train acc: 0.2, Val acc: 0.0\n",
      "  Train acc: 0.156, Val acc: 0.0\n",
      "  Train acc: 0.182, Val acc: 0.0\n",
      "  Train acc: 0.226, Val acc: 0.0\n",
      "  Train acc: 0.208, Val acc: 0.0\n",
      "  Train acc: 0.186, Val acc: 0.0\n",
      "  Train acc: 0.224, Val acc: 0.0\n"
     ]
    },
    {
     "ename": "KeyboardInterrupt",
     "evalue": "",
     "output_type": "error",
     "traceback": [
      "\u001b[1;31m---------------------------------------------------------------------------\u001b[0m",
      "\u001b[1;31mKeyboardInterrupt\u001b[0m                         Traceback (most recent call last)",
      "\u001b[1;32m<ipython-input-16-39f2573a7e23>\u001b[0m in \u001b[0;36m<module>\u001b[1;34m\u001b[0m\n\u001b[0;32m      6\u001b[0m \u001b[0maccel_net2\u001b[0m\u001b[1;33m.\u001b[0m\u001b[0mcompile\u001b[0m\u001b[1;33m(\u001b[0m\u001b[1;34m'adam'\u001b[0m\u001b[1;33m,\u001b[0m \u001b[0mlr\u001b[0m \u001b[1;33m=\u001b[0m \u001b[1;36m.007\u001b[0m\u001b[1;33m)\u001b[0m\u001b[1;33m\u001b[0m\u001b[1;33m\u001b[0m\u001b[0m\n\u001b[0;32m      7\u001b[0m \u001b[1;33m\u001b[0m\u001b[0m\n\u001b[1;32m----> 8\u001b[1;33m \u001b[0man_loss2\u001b[0m\u001b[1;33m,\u001b[0m \u001b[0man_train_acc2\u001b[0m\u001b[1;33m,\u001b[0m \u001b[0man_val_acc2\u001b[0m \u001b[1;33m=\u001b[0m \u001b[0maccel_net2\u001b[0m\u001b[1;33m.\u001b[0m\u001b[0mfit\u001b[0m\u001b[1;33m(\u001b[0m\u001b[0mx_train\u001b[0m\u001b[1;33m,\u001b[0m \u001b[0my_train\u001b[0m\u001b[1;33m,\u001b[0m\u001b[0mx_val\u001b[0m\u001b[1;33m,\u001b[0m \u001b[0my_val\u001b[0m\u001b[1;33m,\u001b[0m\u001b[0mmini_batch_sz\u001b[0m\u001b[1;33m=\u001b[0m\u001b[1;36m10\u001b[0m\u001b[1;33m,\u001b[0m \u001b[0mn_epochs\u001b[0m\u001b[1;33m=\u001b[0m\u001b[1;36m45\u001b[0m\u001b[1;33m,\u001b[0m \u001b[0macc_freq\u001b[0m\u001b[1;33m=\u001b[0m\u001b[1;36m4\u001b[0m\u001b[1;33m)\u001b[0m\u001b[1;33m\u001b[0m\u001b[1;33m\u001b[0m\u001b[0m\n\u001b[0m",
      "\u001b[1;32m~\\Desktop\\Neural Networks\\Proj3 git\\network.py\u001b[0m in \u001b[0;36mfit\u001b[1;34m(self, x_train, y_train, x_validate, y_validate, mini_batch_sz, n_epochs, acc_freq)\u001b[0m\n\u001b[0;32m    119\u001b[0m             \u001b[1;31m# NOTE: This print statement should go in your training loop\u001b[0m\u001b[1;33m\u001b[0m\u001b[1;33m\u001b[0m\u001b[1;33m\u001b[0m\u001b[0m\n\u001b[0;32m    120\u001b[0m             \u001b[1;32mif\u001b[0m \u001b[1;33m(\u001b[0m\u001b[0mi\u001b[0m\u001b[1;33m+\u001b[0m\u001b[1;36m1\u001b[0m\u001b[1;33m)\u001b[0m \u001b[1;33m%\u001b[0m \u001b[0macc_freq\u001b[0m \u001b[1;33m==\u001b[0m \u001b[1;36m0\u001b[0m\u001b[1;33m:\u001b[0m\u001b[1;33m\u001b[0m\u001b[1;33m\u001b[0m\u001b[0m\n\u001b[1;32m--> 121\u001b[1;33m                 \u001b[0mtrain_acc\u001b[0m \u001b[1;33m=\u001b[0m \u001b[0mself\u001b[0m\u001b[1;33m.\u001b[0m\u001b[0maccuracy\u001b[0m\u001b[1;33m(\u001b[0m\u001b[0mx_train\u001b[0m\u001b[1;33m,\u001b[0m \u001b[0my_train\u001b[0m\u001b[1;33m,\u001b[0m \u001b[0mmini_batch_sz\u001b[0m\u001b[1;33m=\u001b[0m\u001b[0mmini_batch_sz\u001b[0m\u001b[1;33m)\u001b[0m\u001b[1;33m\u001b[0m\u001b[1;33m\u001b[0m\u001b[0m\n\u001b[0m\u001b[0;32m    122\u001b[0m                 \u001b[0mval_acc\u001b[0m \u001b[1;33m=\u001b[0m \u001b[0mself\u001b[0m\u001b[1;33m.\u001b[0m\u001b[0maccuracy\u001b[0m\u001b[1;33m(\u001b[0m\u001b[0mx_validate\u001b[0m\u001b[1;33m,\u001b[0m \u001b[0my_validate\u001b[0m\u001b[1;33m,\u001b[0m \u001b[0mmini_batch_sz\u001b[0m\u001b[1;33m=\u001b[0m\u001b[0mmini_batch_sz\u001b[0m\u001b[1;33m)\u001b[0m\u001b[1;33m\u001b[0m\u001b[1;33m\u001b[0m\u001b[0m\n\u001b[0;32m    123\u001b[0m \u001b[1;33m\u001b[0m\u001b[0m\n",
      "\u001b[1;32m~\\Desktop\\Neural Networks\\Proj3 git\\network.py\u001b[0m in \u001b[0;36maccuracy\u001b[1;34m(self, inputs, y, samp_sz, mini_batch_sz)\u001b[0m\n\u001b[0;32m    216\u001b[0m \u001b[1;33m\u001b[0m\u001b[0m\n\u001b[0;32m    217\u001b[0m             \u001b[1;31m# Get the network predicted classes and put them in the right place\u001b[0m\u001b[1;33m\u001b[0m\u001b[1;33m\u001b[0m\u001b[1;33m\u001b[0m\u001b[0m\n\u001b[1;32m--> 218\u001b[1;33m             \u001b[0my_pred\u001b[0m\u001b[1;33m[\u001b[0m\u001b[0mlow\u001b[0m\u001b[1;33m:\u001b[0m\u001b[0mhigh\u001b[0m\u001b[1;33m]\u001b[0m \u001b[1;33m=\u001b[0m \u001b[0mself\u001b[0m\u001b[1;33m.\u001b[0m\u001b[0mpredict\u001b[0m\u001b[1;33m(\u001b[0m\u001b[0minputs\u001b[0m\u001b[1;33m[\u001b[0m\u001b[0mlow\u001b[0m\u001b[1;33m:\u001b[0m\u001b[0mhigh\u001b[0m\u001b[1;33m]\u001b[0m\u001b[1;33m)\u001b[0m\u001b[1;33m\u001b[0m\u001b[1;33m\u001b[0m\u001b[0m\n\u001b[0m\u001b[0;32m    219\u001b[0m \u001b[1;33m\u001b[0m\u001b[0m\n\u001b[0;32m    220\u001b[0m         \u001b[1;31m# Accuracy is the average proportion that the prediction matchs the true\u001b[0m\u001b[1;33m\u001b[0m\u001b[1;33m\u001b[0m\u001b[1;33m\u001b[0m\u001b[0m\n",
      "\u001b[1;32m~\\Desktop\\Neural Networks\\Proj3 git\\network.py\u001b[0m in \u001b[0;36mpredict\u001b[1;34m(self, inputs)\u001b[0m\n\u001b[0;32m    167\u001b[0m         \u001b[0mtemp_in\u001b[0m \u001b[1;33m=\u001b[0m \u001b[0minputs\u001b[0m\u001b[1;33m\u001b[0m\u001b[1;33m\u001b[0m\u001b[0m\n\u001b[0;32m    168\u001b[0m         \u001b[1;32mfor\u001b[0m \u001b[0ml\u001b[0m \u001b[1;32min\u001b[0m \u001b[0mself\u001b[0m\u001b[1;33m.\u001b[0m\u001b[0mlayers\u001b[0m\u001b[1;33m:\u001b[0m\u001b[1;33m\u001b[0m\u001b[1;33m\u001b[0m\u001b[0m\n\u001b[1;32m--> 169\u001b[1;33m             \u001b[0mtemp_in\u001b[0m \u001b[1;33m=\u001b[0m \u001b[0ml\u001b[0m\u001b[1;33m.\u001b[0m\u001b[0mforward\u001b[0m\u001b[1;33m(\u001b[0m\u001b[0mtemp_in\u001b[0m\u001b[1;33m)\u001b[0m\u001b[1;33m\u001b[0m\u001b[1;33m\u001b[0m\u001b[0m\n\u001b[0m\u001b[0;32m    170\u001b[0m \u001b[1;33m\u001b[0m\u001b[0m\n\u001b[0;32m    171\u001b[0m         \u001b[1;32mreturn\u001b[0m \u001b[0mnp\u001b[0m\u001b[1;33m.\u001b[0m\u001b[0margmax\u001b[0m\u001b[1;33m(\u001b[0m\u001b[0mtemp_in\u001b[0m\u001b[1;33m,\u001b[0m \u001b[0maxis\u001b[0m\u001b[1;33m=\u001b[0m\u001b[1;36m1\u001b[0m\u001b[1;33m)\u001b[0m\u001b[1;33m\u001b[0m\u001b[1;33m\u001b[0m\u001b[0m\n",
      "\u001b[1;32m~\\Desktop\\Neural Networks\\Proj3 git\\layer.py\u001b[0m in \u001b[0;36mforward\u001b[1;34m(self, inputs)\u001b[0m\n\u001b[0;32m    184\u001b[0m         '''\n\u001b[0;32m    185\u001b[0m         \u001b[0mself\u001b[0m\u001b[1;33m.\u001b[0m\u001b[0minput\u001b[0m \u001b[1;33m=\u001b[0m \u001b[0minputs\u001b[0m\u001b[1;33m\u001b[0m\u001b[1;33m\u001b[0m\u001b[0m\n\u001b[1;32m--> 186\u001b[1;33m         \u001b[0mself\u001b[0m\u001b[1;33m.\u001b[0m\u001b[0mcompute_net_in\u001b[0m\u001b[1;33m(\u001b[0m\u001b[1;33m)\u001b[0m\u001b[1;33m\u001b[0m\u001b[1;33m\u001b[0m\u001b[0m\n\u001b[0m\u001b[0;32m    187\u001b[0m         \u001b[0mself\u001b[0m\u001b[1;33m.\u001b[0m\u001b[0mcompute_net_act\u001b[0m\u001b[1;33m(\u001b[0m\u001b[1;33m)\u001b[0m\u001b[1;33m\u001b[0m\u001b[1;33m\u001b[0m\u001b[0m\n\u001b[0;32m    188\u001b[0m         \u001b[1;32mreturn\u001b[0m \u001b[0mself\u001b[0m\u001b[1;33m.\u001b[0m\u001b[0mnet_act\u001b[0m\u001b[1;33m.\u001b[0m\u001b[0mcopy\u001b[0m\u001b[1;33m(\u001b[0m\u001b[1;33m)\u001b[0m\u001b[1;33m\u001b[0m\u001b[1;33m\u001b[0m\u001b[0m\n",
      "\u001b[1;32m~\\Desktop\\Neural Networks\\Proj3 git\\accelerated_layer.py\u001b[0m in \u001b[0;36mcompute_net_in\u001b[1;34m(self)\u001b[0m\n\u001b[0;32m     28\u001b[0m         \u001b[0mself\u001b[0m\u001b[1;33m.\u001b[0m\u001b[0minput_cols\u001b[0m \u001b[1;33m=\u001b[0m \u001b[0mim2col_cython\u001b[0m\u001b[1;33m.\u001b[0m\u001b[0mim2col_cython\u001b[0m\u001b[1;33m(\u001b[0m\u001b[0mself\u001b[0m\u001b[1;33m.\u001b[0m\u001b[0minput\u001b[0m\u001b[1;33m,\u001b[0m \u001b[0mker_sz\u001b[0m\u001b[1;33m,\u001b[0m \u001b[0mker_sz\u001b[0m\u001b[1;33m,\u001b[0m \u001b[0mpad\u001b[0m\u001b[1;33m,\u001b[0m \u001b[0mstride\u001b[0m\u001b[1;33m)\u001b[0m\u001b[1;33m\u001b[0m\u001b[1;33m\u001b[0m\u001b[0m\n\u001b[0;32m     29\u001b[0m \u001b[1;33m\u001b[0m\u001b[0m\n\u001b[1;32m---> 30\u001b[1;33m         \u001b[0mself\u001b[0m\u001b[1;33m.\u001b[0m\u001b[0mnet_in\u001b[0m \u001b[1;33m=\u001b[0m \u001b[0mself\u001b[0m\u001b[1;33m.\u001b[0m\u001b[0mwts\u001b[0m\u001b[1;33m.\u001b[0m\u001b[0mreshape\u001b[0m\u001b[1;33m(\u001b[0m\u001b[0mlen\u001b[0m\u001b[1;33m(\u001b[0m\u001b[0mself\u001b[0m\u001b[1;33m.\u001b[0m\u001b[0mwts\u001b[0m\u001b[1;33m)\u001b[0m\u001b[1;33m,\u001b[0m \u001b[1;33m-\u001b[0m\u001b[1;36m1\u001b[0m\u001b[1;33m)\u001b[0m \u001b[1;33m@\u001b[0m \u001b[0mself\u001b[0m\u001b[1;33m.\u001b[0m\u001b[0minput_cols\u001b[0m \u001b[1;33m+\u001b[0m \u001b[0mself\u001b[0m\u001b[1;33m.\u001b[0m\u001b[0mb\u001b[0m\u001b[1;33m.\u001b[0m\u001b[0mreshape\u001b[0m\u001b[1;33m(\u001b[0m\u001b[1;33m-\u001b[0m\u001b[1;36m1\u001b[0m\u001b[1;33m,\u001b[0m \u001b[1;36m1\u001b[0m\u001b[1;33m)\u001b[0m\u001b[1;33m\u001b[0m\u001b[1;33m\u001b[0m\u001b[0m\n\u001b[0m\u001b[0;32m     31\u001b[0m         \u001b[0mself\u001b[0m\u001b[1;33m.\u001b[0m\u001b[0mnet_in\u001b[0m \u001b[1;33m=\u001b[0m \u001b[0mself\u001b[0m\u001b[1;33m.\u001b[0m\u001b[0mnet_in\u001b[0m\u001b[1;33m.\u001b[0m\u001b[0mreshape\u001b[0m\u001b[1;33m(\u001b[0m\u001b[0mn_kers\u001b[0m\u001b[1;33m,\u001b[0m \u001b[0mimg_y\u001b[0m\u001b[1;33m,\u001b[0m \u001b[0mimg_x\u001b[0m\u001b[1;33m,\u001b[0m \u001b[0mbatch_sz\u001b[0m\u001b[1;33m)\u001b[0m\u001b[1;33m\u001b[0m\u001b[1;33m\u001b[0m\u001b[0m\n\u001b[0;32m     32\u001b[0m         \u001b[0mself\u001b[0m\u001b[1;33m.\u001b[0m\u001b[0mnet_in\u001b[0m \u001b[1;33m=\u001b[0m \u001b[0mself\u001b[0m\u001b[1;33m.\u001b[0m\u001b[0mnet_in\u001b[0m\u001b[1;33m.\u001b[0m\u001b[0mtranspose\u001b[0m\u001b[1;33m(\u001b[0m\u001b[1;36m3\u001b[0m\u001b[1;33m,\u001b[0m \u001b[1;36m0\u001b[0m\u001b[1;33m,\u001b[0m \u001b[1;36m1\u001b[0m\u001b[1;33m,\u001b[0m \u001b[1;36m2\u001b[0m\u001b[1;33m)\u001b[0m\u001b[1;33m\u001b[0m\u001b[1;33m\u001b[0m\u001b[0m\n",
      "\u001b[1;31mKeyboardInterrupt\u001b[0m: "
     ]
    }
   ],
   "source": [
    "an_loss2 = None\n",
    "an_train_acc2 = None\n",
    "an_val_acc2 = None\n",
    "\n",
    "accel_net2 = ConvNet4Accel(input_shape = (3,32,32), wt_scale = 0.001, reg = 0.001)\n",
    "accel_net2.compile('adam', lr = .007)\n",
    "\n",
    "an_loss2, an_train_acc2, an_val_acc2 = accel_net2.fit(x_train, y_train,x_val, y_val,mini_batch_sz=10, n_epochs=45, acc_freq=4)"
   ]
  },
  {
   "cell_type": "code",
   "execution_count": 17,
   "metadata": {},
   "outputs": [
    {
     "data": {
      "image/png": "[encoded data removed]",
      "text/plain": [
       "<Figure size 432x288 with 1 Axes>"
      ]
     },
     "metadata": {
      "needs_background": "light"
     },
     "output_type": "display_data"
    }
   ],
   "source": [
    "\n",
    "plt.plot(accel_net2.validation_acc_history)\n",
    "plt.plot(accel_net2.train_acc_history)\n",
    "plt.show()\n",
    " "
   ]
  },
  {
   "cell_type": "code",
   "execution_count": 13,
   "metadata": {},
   "outputs": [
    {
     "data": {
      "text/plain": [
       "0.0875"
      ]
     },
     "execution_count": 13,
     "metadata": {},
     "output_type": "execute_result"
    }
   ],
   "source": [
    "accel_net2.accuracy(x_test, y_test, mini_batch_sz = 100)\n"
   ]
  },
  {
   "cell_type": "code",
   "execution_count": 18,
   "metadata": {},
   "outputs": [
    {
     "data": {
      "image/png": "[encoded data removed]",
      "text/plain": [
       "<Figure size 432x288 with 1 Axes>"
      ]
     },
     "metadata": {
      "needs_background": "light"
     },
     "output_type": "display_data"
    }
   ],
   "source": [
    "plt.plot(accel_net2.loss_history)\n",
    "plt.show()"
   ]
  },
  {
   "cell_type": "code",
   "execution_count": 19,
   "metadata": {},
   "outputs": [
    {
     "ename": "NameError",
     "evalue": "name 'plot_weights' is not defined",
     "output_type": "error",
     "traceback": [
      "\u001b[1;31m---------------------------------------------------------------------------\u001b[0m",
      "\u001b[1;31mNameError\u001b[0m                                 Traceback (most recent call last)",
      "\u001b[1;32m<ipython-input-19-469c4a506640>\u001b[0m in \u001b[0;36m<module>\u001b[1;34m\u001b[0m\n\u001b[1;32m----> 1\u001b[1;33m \u001b[0mplot_weights\u001b[0m\u001b[1;33m(\u001b[0m\u001b[0maccel_net2\u001b[0m\u001b[1;33m.\u001b[0m\u001b[0mlayers\u001b[0m\u001b[1;33m[\u001b[0m\u001b[1;36m0\u001b[0m\u001b[1;33m]\u001b[0m\u001b[1;33m.\u001b[0m\u001b[0mwts\u001b[0m\u001b[1;33m.\u001b[0m\u001b[0mtranspose\u001b[0m\u001b[1;33m(\u001b[0m\u001b[1;36m0\u001b[0m\u001b[1;33m,\u001b[0m \u001b[1;36m2\u001b[0m\u001b[1;33m,\u001b[0m \u001b[1;36m3\u001b[0m\u001b[1;33m,\u001b[0m \u001b[1;36m1\u001b[0m\u001b[1;33m)\u001b[0m\u001b[1;33m,\u001b[0m \u001b[0msaveFig\u001b[0m\u001b[1;33m=\u001b[0m\u001b[1;32mFalse\u001b[0m\u001b[1;33m,\u001b[0m \u001b[0mfilename\u001b[0m\u001b[1;33m=\u001b[0m\u001b[1;34m'convWts_adam_train_20epoch.png'\u001b[0m\u001b[1;33m)\u001b[0m\u001b[1;33m\u001b[0m\u001b[1;33m\u001b[0m\u001b[0m\n\u001b[0m",
      "\u001b[1;31mNameError\u001b[0m: name 'plot_weights' is not defined"
     ]
    }
   ],
   "source": [
    "plot_weights(accel_net2.layers[0].wts.transpose(0, 2, 3, 1), saveFig=False, filename='convWts_adam_train_20epoch.png')"
   ]
  },
  {
   "cell_type": "code",
   "execution_count": 52,
   "metadata": {},
   "outputs": [
    {
     "data": {
      "text/plain": [
       "0.4775"
      ]
     },
     "execution_count": 52,
     "metadata": {},
     "output_type": "execute_result"
    }
   ],
   "source": [
    "accel_net3.accuracy(x_test, y_test, mini_batch_sz = 100)"
   ]
  },
  {
   "cell_type": "code",
   "execution_count": 53,
   "metadata": {},
   "outputs": [
    {
     "data": {
      "image/png": "[encoded data removed]",
      "text/plain": [
       "<Figure size 432x288 with 1 Axes>"
      ]
     },
     "metadata": {
      "needs_background": "light"
     },
     "output_type": "display_data"
    }
   ],
   "source": [
    "plt.plot(accel_net3.validation_acc_history)\n",
    "plt.plot(accel_net3.train_acc_history)\n",
    "plt.show()"
   ]
  },
  {
   "cell_type": "code",
   "execution_count": 54,
   "metadata": {},
   "outputs": [
    {
     "data": {
      "image/png": "[encoded data removed]",
      "text/plain": [
       "<Figure size 432x288 with 1 Axes>"
      ]
     },
     "metadata": {
      "needs_background": "light"
     },
     "output_type": "display_data"
    }
   ],
   "source": [
    "plt.plot(accel_net1.loss_history)\n",
    "plt.show()"
   ]
  },
  {
   "cell_type": "code",
   "execution_count": 55,
   "metadata": {},
   "outputs": [
    {
     "data": {
      "image/png": "[encoded data removed]",
      "text/plain": [
       "<Figure size 720x720 with 25 Axes>"
      ]
     },
     "metadata": {
      "needs_background": "light"
     },
     "output_type": "display_data"
    }
   ],
   "source": [
    "plot_weights(accel_net3.layers[0].wts.transpose(0, 2, 3, 1), saveFig=False, filename='convWts_adam_train_20epoch.png')"
   ]
  },
  {
   "cell_type": "markdown",
   "metadata": {},
   "source": [
    "### 7d) Analysis of STL-10 training quality\n",
    "\n",
    "Use your trained network that achieves 45%+ accuracy on the test set to make \"high quality\" plots showing the following \n",
    "\n",
    "- Plot the accuracy of the training and validation sets as a function of training epoch. You may have to convert iterations to epochs.\n",
    "- Plot the loss as a function of training iteration."
   ]
  },
  {
   "cell_type": "code",
   "execution_count": 42,
   "metadata": {},
   "outputs": [
    {
     "data": {
      "text/plain": [
       "0.4725"
      ]
     },
     "execution_count": 42,
     "metadata": {},
     "output_type": "execute_result"
    }
   ],
   "source": [
    "accel_net1.accuracy(x_test, y_test, mini_batch_sz = 100)"
   ]
  },
  {
   "cell_type": "code",
   "execution_count": 43,
   "metadata": {},
   "outputs": [
    {
     "data": {
      "image/png": "[encoded data removed]",
      "text/plain": [
       "<Figure size 432x288 with 1 Axes>"
      ]
     },
     "metadata": {
      "needs_background": "light"
     },
     "output_type": "display_data"
    }
   ],
   "source": [
    "plt.plot(accel_net1.validation_acc_history)\n",
    "plt.plot(accel_net1.train_acc_history)\n",
    "plt.show()"
   ]
  },
  {
   "cell_type": "code",
   "execution_count": 44,
   "metadata": {},
   "outputs": [
    {
     "data": {
      "image/png": "[encoded data removed]",
      "text/plain": [
       "<Figure size 432x288 with 1 Axes>"
      ]
     },
     "metadata": {
      "needs_background": "light"
     },
     "output_type": "display_data"
    }
   ],
   "source": [
    "plt.plot(accel_net1.loss_history)\n",
    "plt.show()"
   ]
  },
  {
   "cell_type": "code",
   "execution_count": 58,
   "metadata": {},
   "outputs": [
    {
     "name": "stdout",
     "output_type": "stream",
     "text": [
      "Starting to train...\n",
      "3375 iterations. 45 iter/epoch.\n",
      "Time taken for iteration 0:  0.007606796423594157\n",
      "  Train acc: 0.288, Val acc: 0.0\n",
      "  Train acc: 0.386, Val acc: 0.0\n",
      "  Train acc: 0.466, Val acc: 0.0\n",
      "  Train acc: 0.46, Val acc: 0.5\n",
      "  Train acc: 0.538, Val acc: 0.5\n",
      "  Train acc: 0.592, Val acc: 0.5\n",
      "  Train acc: 0.574, Val acc: 0.5\n",
      "  Train acc: 0.642, Val acc: 0.5\n",
      "  Train acc: 0.612, Val acc: 0.5\n",
      "  Train acc: 0.678, Val acc: 0.5\n",
      "  Train acc: 0.686, Val acc: 0.5\n",
      "  Train acc: 0.7, Val acc: 0.5\n",
      "  Train acc: 0.746, Val acc: 0.5\n",
      "  Train acc: 0.758, Val acc: 0.5\n",
      "  Train acc: 0.814, Val acc: 0.5\n",
      "  Train acc: 0.816, Val acc: 0.5\n",
      "  Train acc: 0.852, Val acc: 0.5\n",
      "  Train acc: 0.848, Val acc: 0.5\n",
      "  Train acc: 0.888, Val acc: 0.5\n",
      "  Train acc: 0.936, Val acc: 0.5\n",
      "  Train acc: 0.946, Val acc: 0.5\n",
      "  Train acc: 0.972, Val acc: 0.5\n",
      "  Train acc: 0.972, Val acc: 0.5\n",
      "  Train acc: 0.978, Val acc: 0.5\n",
      "  Train acc: 0.978, Val acc: 0.5\n",
      "  Train acc: 0.996, Val acc: 0.5\n",
      "  Train acc: 0.984, Val acc: 0.5\n",
      "  Train acc: 0.996, Val acc: 0.5\n",
      "  Train acc: 0.996, Val acc: 0.5\n",
      "  Train acc: 1.0, Val acc: 0.5\n"
     ]
    },
    {
     "ename": "KeyboardInterrupt",
     "evalue": "",
     "output_type": "error",
     "traceback": [
      "\u001b[1;31m---------------------------------------------------------------------------\u001b[0m",
      "\u001b[1;31mKeyboardInterrupt\u001b[0m                         Traceback (most recent call last)",
      "\u001b[1;32m<ipython-input-58-39fcd2192898>\u001b[0m in \u001b[0;36m<module>\u001b[1;34m\u001b[0m\n\u001b[0;32m      6\u001b[0m \u001b[0maccel_net4\u001b[0m\u001b[1;33m.\u001b[0m\u001b[0mcompile\u001b[0m\u001b[1;33m(\u001b[0m\u001b[1;34m'adam'\u001b[0m\u001b[1;33m,\u001b[0m \u001b[0mlr\u001b[0m \u001b[1;33m=\u001b[0m \u001b[1;36m0.001\u001b[0m\u001b[1;33m)\u001b[0m\u001b[1;33m\u001b[0m\u001b[1;33m\u001b[0m\u001b[0m\n\u001b[0;32m      7\u001b[0m \u001b[1;33m\u001b[0m\u001b[0m\n\u001b[1;32m----> 8\u001b[1;33m \u001b[0man_loss4\u001b[0m\u001b[1;33m,\u001b[0m \u001b[0man_train_acc4\u001b[0m\u001b[1;33m,\u001b[0m \u001b[0man_val_acc4\u001b[0m \u001b[1;33m=\u001b[0m \u001b[0maccel_net4\u001b[0m\u001b[1;33m.\u001b[0m\u001b[0mfit\u001b[0m\u001b[1;33m(\u001b[0m\u001b[0mx_train\u001b[0m\u001b[1;33m,\u001b[0m \u001b[0my_train\u001b[0m\u001b[1;33m,\u001b[0m\u001b[0mx_val\u001b[0m\u001b[1;33m,\u001b[0m \u001b[0my_val\u001b[0m\u001b[1;33m,\u001b[0m\u001b[0mmini_batch_sz\u001b[0m\u001b[1;33m=\u001b[0m\u001b[1;36m100\u001b[0m\u001b[1;33m,\u001b[0m \u001b[0mn_epochs\u001b[0m\u001b[1;33m=\u001b[0m\u001b[1;36m75\u001b[0m\u001b[1;33m,\u001b[0m \u001b[0macc_freq\u001b[0m\u001b[1;33m=\u001b[0m\u001b[1;36m100\u001b[0m\u001b[1;33m)\u001b[0m\u001b[1;33m\u001b[0m\u001b[1;33m\u001b[0m\u001b[0m\n\u001b[0m",
      "\u001b[1;32m~\\Desktop\\Neural Networks\\Proj3 git\\network.py\u001b[0m in \u001b[0;36mfit\u001b[1;34m(self, x_train, y_train, x_validate, y_validate, mini_batch_sz, n_epochs, acc_freq)\u001b[0m\n\u001b[0;32m    110\u001b[0m             \u001b[0mfeatures_batch\u001b[0m \u001b[1;33m=\u001b[0m \u001b[0mx_train\u001b[0m\u001b[1;33m[\u001b[0m\u001b[0mindex\u001b[0m\u001b[1;33m,\u001b[0m \u001b[1;33m:\u001b[0m\u001b[1;33m]\u001b[0m\u001b[1;33m\u001b[0m\u001b[1;33m\u001b[0m\u001b[0m\n\u001b[0;32m    111\u001b[0m             \u001b[0my_batch\u001b[0m \u001b[1;33m=\u001b[0m \u001b[0my_train\u001b[0m\u001b[1;33m[\u001b[0m\u001b[0mindex\u001b[0m\u001b[1;33m]\u001b[0m\u001b[1;33m\u001b[0m\u001b[1;33m\u001b[0m\u001b[0m\n\u001b[1;32m--> 112\u001b[1;33m             \u001b[0mloss\u001b[0m \u001b[1;33m=\u001b[0m \u001b[0mself\u001b[0m\u001b[1;33m.\u001b[0m\u001b[0mforward\u001b[0m\u001b[1;33m(\u001b[0m\u001b[0mfeatures_batch\u001b[0m\u001b[1;33m,\u001b[0m \u001b[0my_batch\u001b[0m\u001b[1;33m)\u001b[0m\u001b[1;33m\u001b[0m\u001b[1;33m\u001b[0m\u001b[0m\n\u001b[0m\u001b[0;32m    113\u001b[0m             \u001b[0mself\u001b[0m\u001b[1;33m.\u001b[0m\u001b[0mbackward\u001b[0m\u001b[1;33m(\u001b[0m\u001b[0my_batch\u001b[0m\u001b[1;33m)\u001b[0m\u001b[1;33m\u001b[0m\u001b[1;33m\u001b[0m\u001b[0m\n\u001b[0;32m    114\u001b[0m             \u001b[0mself\u001b[0m\u001b[1;33m.\u001b[0m\u001b[0mloss_history\u001b[0m\u001b[1;33m.\u001b[0m\u001b[0mappend\u001b[0m\u001b[1;33m(\u001b[0m\u001b[0mloss\u001b[0m\u001b[1;33m)\u001b[0m\u001b[1;33m\u001b[0m\u001b[1;33m\u001b[0m\u001b[0m\n",
      "\u001b[1;32m~\\Desktop\\Neural Networks\\Proj3 git\\network.py\u001b[0m in \u001b[0;36mforward\u001b[1;34m(self, inputs, y)\u001b[0m\n\u001b[0;32m    249\u001b[0m             \u001b[1;31m#print(\"at layer\", i)\u001b[0m\u001b[1;33m\u001b[0m\u001b[1;33m\u001b[0m\u001b[1;33m\u001b[0m\u001b[0m\n\u001b[0;32m    250\u001b[0m             \u001b[1;32mif\u001b[0m \u001b[0mi\u001b[0m \u001b[1;33m==\u001b[0m \u001b[1;36m0\u001b[0m\u001b[1;33m:\u001b[0m\u001b[1;33m\u001b[0m\u001b[1;33m\u001b[0m\u001b[0m\n\u001b[1;32m--> 251\u001b[1;33m                 \u001b[0moutput\u001b[0m\u001b[1;33m.\u001b[0m\u001b[0mappend\u001b[0m\u001b[1;33m(\u001b[0m\u001b[0mself\u001b[0m\u001b[1;33m.\u001b[0m\u001b[0mlayers\u001b[0m\u001b[1;33m[\u001b[0m\u001b[0mi\u001b[0m\u001b[1;33m]\u001b[0m\u001b[1;33m.\u001b[0m\u001b[0mforward\u001b[0m\u001b[1;33m(\u001b[0m\u001b[0minputs\u001b[0m\u001b[1;33m)\u001b[0m\u001b[1;33m)\u001b[0m\u001b[1;33m\u001b[0m\u001b[1;33m\u001b[0m\u001b[0m\n\u001b[0m\u001b[0;32m    252\u001b[0m             \u001b[1;32melse\u001b[0m\u001b[1;33m:\u001b[0m\u001b[1;33m\u001b[0m\u001b[1;33m\u001b[0m\u001b[0m\n\u001b[0;32m    253\u001b[0m                 \u001b[0moutput\u001b[0m\u001b[1;33m.\u001b[0m\u001b[0mappend\u001b[0m\u001b[1;33m(\u001b[0m\u001b[0mself\u001b[0m\u001b[1;33m.\u001b[0m\u001b[0mlayers\u001b[0m\u001b[1;33m[\u001b[0m\u001b[0mi\u001b[0m\u001b[1;33m]\u001b[0m\u001b[1;33m.\u001b[0m\u001b[0mforward\u001b[0m\u001b[1;33m(\u001b[0m\u001b[0moutput\u001b[0m\u001b[1;33m[\u001b[0m\u001b[0mi\u001b[0m\u001b[1;33m-\u001b[0m\u001b[1;36m1\u001b[0m\u001b[1;33m]\u001b[0m\u001b[1;33m)\u001b[0m\u001b[1;33m)\u001b[0m\u001b[1;33m\u001b[0m\u001b[1;33m\u001b[0m\u001b[0m\n",
      "\u001b[1;32m~\\Desktop\\Neural Networks\\Proj3 git\\layer.py\u001b[0m in \u001b[0;36mforward\u001b[1;34m(self, inputs)\u001b[0m\n\u001b[0;32m    184\u001b[0m         '''\n\u001b[0;32m    185\u001b[0m         \u001b[0mself\u001b[0m\u001b[1;33m.\u001b[0m\u001b[0minput\u001b[0m \u001b[1;33m=\u001b[0m \u001b[0minputs\u001b[0m\u001b[1;33m\u001b[0m\u001b[1;33m\u001b[0m\u001b[0m\n\u001b[1;32m--> 186\u001b[1;33m         \u001b[0mself\u001b[0m\u001b[1;33m.\u001b[0m\u001b[0mcompute_net_in\u001b[0m\u001b[1;33m(\u001b[0m\u001b[1;33m)\u001b[0m\u001b[1;33m\u001b[0m\u001b[1;33m\u001b[0m\u001b[0m\n\u001b[0m\u001b[0;32m    187\u001b[0m         \u001b[0mself\u001b[0m\u001b[1;33m.\u001b[0m\u001b[0mcompute_net_act\u001b[0m\u001b[1;33m(\u001b[0m\u001b[1;33m)\u001b[0m\u001b[1;33m\u001b[0m\u001b[1;33m\u001b[0m\u001b[0m\n\u001b[0;32m    188\u001b[0m         \u001b[1;32mreturn\u001b[0m \u001b[0mself\u001b[0m\u001b[1;33m.\u001b[0m\u001b[0mnet_act\u001b[0m\u001b[1;33m.\u001b[0m\u001b[0mcopy\u001b[0m\u001b[1;33m(\u001b[0m\u001b[1;33m)\u001b[0m\u001b[1;33m\u001b[0m\u001b[1;33m\u001b[0m\u001b[0m\n",
      "\u001b[1;32m~\\Desktop\\Neural Networks\\Proj3 git\\accelerated_layer.py\u001b[0m in \u001b[0;36mcompute_net_in\u001b[1;34m(self)\u001b[0m\n\u001b[0;32m     26\u001b[0m         \u001b[0mimg_y_p\u001b[0m\u001b[1;33m,\u001b[0m \u001b[0mimg_x_p\u001b[0m \u001b[1;33m=\u001b[0m \u001b[0mimg_y\u001b[0m \u001b[1;33m+\u001b[0m \u001b[1;36m2\u001b[0m\u001b[1;33m*\u001b[0m\u001b[0mpad\u001b[0m\u001b[1;33m,\u001b[0m \u001b[0mimg_x\u001b[0m \u001b[1;33m+\u001b[0m \u001b[1;36m2\u001b[0m\u001b[1;33m*\u001b[0m\u001b[0mpad\u001b[0m\u001b[1;33m\u001b[0m\u001b[1;33m\u001b[0m\u001b[0m\n\u001b[0;32m     27\u001b[0m \u001b[1;33m\u001b[0m\u001b[0m\n\u001b[1;32m---> 28\u001b[1;33m         \u001b[0mself\u001b[0m\u001b[1;33m.\u001b[0m\u001b[0minput_cols\u001b[0m \u001b[1;33m=\u001b[0m \u001b[0mim2col_cython\u001b[0m\u001b[1;33m.\u001b[0m\u001b[0mim2col_cython\u001b[0m\u001b[1;33m(\u001b[0m\u001b[0mself\u001b[0m\u001b[1;33m.\u001b[0m\u001b[0minput\u001b[0m\u001b[1;33m,\u001b[0m \u001b[0mker_sz\u001b[0m\u001b[1;33m,\u001b[0m \u001b[0mker_sz\u001b[0m\u001b[1;33m,\u001b[0m \u001b[0mpad\u001b[0m\u001b[1;33m,\u001b[0m \u001b[0mstride\u001b[0m\u001b[1;33m)\u001b[0m\u001b[1;33m\u001b[0m\u001b[1;33m\u001b[0m\u001b[0m\n\u001b[0m\u001b[0;32m     29\u001b[0m \u001b[1;33m\u001b[0m\u001b[0m\n\u001b[0;32m     30\u001b[0m         \u001b[0mself\u001b[0m\u001b[1;33m.\u001b[0m\u001b[0mnet_in\u001b[0m \u001b[1;33m=\u001b[0m \u001b[0mself\u001b[0m\u001b[1;33m.\u001b[0m\u001b[0mwts\u001b[0m\u001b[1;33m.\u001b[0m\u001b[0mreshape\u001b[0m\u001b[1;33m(\u001b[0m\u001b[0mlen\u001b[0m\u001b[1;33m(\u001b[0m\u001b[0mself\u001b[0m\u001b[1;33m.\u001b[0m\u001b[0mwts\u001b[0m\u001b[1;33m)\u001b[0m\u001b[1;33m,\u001b[0m \u001b[1;33m-\u001b[0m\u001b[1;36m1\u001b[0m\u001b[1;33m)\u001b[0m \u001b[1;33m@\u001b[0m \u001b[0mself\u001b[0m\u001b[1;33m.\u001b[0m\u001b[0minput_cols\u001b[0m \u001b[1;33m+\u001b[0m \u001b[0mself\u001b[0m\u001b[1;33m.\u001b[0m\u001b[0mb\u001b[0m\u001b[1;33m.\u001b[0m\u001b[0mreshape\u001b[0m\u001b[1;33m(\u001b[0m\u001b[1;33m-\u001b[0m\u001b[1;36m1\u001b[0m\u001b[1;33m,\u001b[0m \u001b[1;36m1\u001b[0m\u001b[1;33m)\u001b[0m\u001b[1;33m\u001b[0m\u001b[1;33m\u001b[0m\u001b[0m\n",
      "\u001b[1;31mKeyboardInterrupt\u001b[0m: "
     ]
    }
   ],
   "source": [
    "an_loss4 = None\n",
    "an_train_acc4 = None\n",
    "an_val_acc4 = None\n",
    "\n",
    "accel_net4 = ConvNet4Accel(input_shape = (3,32,32), wt_scale = 0.001, reg = 0.0001)\n",
    "accel_net4.compile('adam', lr = 0.001)\n",
    "\n",
    "an_loss4, an_train_acc4, an_val_acc4 = accel_net4.fit(x_train, y_train,x_val, y_val,mini_batch_sz=100, n_epochs=75, acc_freq=100)"
   ]
  },
  {
   "cell_type": "code",
   "execution_count": 60,
   "metadata": {},
   "outputs": [
    {
     "data": {
      "text/plain": [
       "0.4925"
      ]
     },
     "execution_count": 60,
     "metadata": {},
     "output_type": "execute_result"
    }
   ],
   "source": [
    "accel_net4.accuracy(x_test, y_test, mini_batch_sz = 100)"
   ]
  },
  {
   "cell_type": "code",
   "execution_count": null,
   "metadata": {},
   "outputs": [],
   "source": []
  },
  {
   "cell_type": "code",
   "execution_count": 59,
   "metadata": {},
   "outputs": [
    {
     "data": {
      "image/png": "[encoded data removed]",
      "text/plain": [
       "<Figure size 720x720 with 25 Axes>"
      ]
     },
     "metadata": {
      "needs_background": "light"
     },
     "output_type": "display_data"
    }
   ],
   "source": [
    "plot_weights(accel_net4.layers[0].wts.transpose(0, 2, 3, 1), saveFig=False, filename='convWts_adam_train_20epoch.png')"
   ]
  },
  {
   "cell_type": "code",
   "execution_count": 61,
   "metadata": {},
   "outputs": [
    {
     "name": "stdout",
     "output_type": "stream",
     "text": [
      "Starting to train...\n",
      "3375 iterations. 45 iter/epoch.\n",
      "Time taken for iteration 0:  0.007364380359649658\n",
      "  Train acc: 0.174, Val acc: 0.5\n",
      "  Train acc: 0.256, Val acc: 0.5\n",
      "  Train acc: 0.296, Val acc: 0.5\n",
      "  Train acc: 0.294, Val acc: 0.5\n",
      "  Train acc: 0.262, Val acc: 0.0\n",
      "  Train acc: 0.32, Val acc: 0.0\n",
      "  Train acc: 0.362, Val acc: 0.0\n",
      "  Train acc: 0.336, Val acc: 0.0\n",
      "  Train acc: 0.376, Val acc: 0.0\n",
      "  Train acc: 0.388, Val acc: 0.0\n",
      "  Train acc: 0.41, Val acc: 0.0\n",
      "  Train acc: 0.396, Val acc: 0.0\n",
      "  Train acc: 0.394, Val acc: 0.0\n",
      "  Train acc: 0.404, Val acc: 0.0\n",
      "  Train acc: 0.38, Val acc: 0.0\n",
      "  Train acc: 0.422, Val acc: 0.0\n",
      "  Train acc: 0.468, Val acc: 0.0\n",
      "  Train acc: 0.416, Val acc: 0.0\n",
      "  Train acc: 0.428, Val acc: 0.0\n",
      "  Train acc: 0.488, Val acc: 0.0\n",
      "  Train acc: 0.46, Val acc: 0.0\n",
      "  Train acc: 0.442, Val acc: 0.0\n",
      "  Train acc: 0.494, Val acc: 0.0\n",
      "  Train acc: 0.454, Val acc: 0.0\n",
      "  Train acc: 0.486, Val acc: 0.0\n",
      "  Train acc: 0.484, Val acc: 0.0\n",
      "  Train acc: 0.496, Val acc: 0.0\n",
      "  Train acc: 0.522, Val acc: 0.0\n",
      "  Train acc: 0.488, Val acc: 0.0\n",
      "  Train acc: 0.504, Val acc: 0.0\n",
      "  Train acc: 0.514, Val acc: 0.0\n",
      "  Train acc: 0.528, Val acc: 0.0\n",
      "  Train acc: 0.516, Val acc: 0.0\n",
      "Finished training!\n"
     ]
    }
   ],
   "source": [
    "an_loss5 = None\n",
    "an_train_acc5 = None\n",
    "an_val_acc5 = None\n",
    "\n",
    "accel_net5 = ConvNet4Accel(input_shape = (3,32,32), wt_scale = 0.001, reg = 0.0001)\n",
    "accel_net5.compile('adam', lr = 0.0001)\n",
    "\n",
    "an_loss5, an_train_acc5, an_val_acc5 = accel_net5.fit(x_train, y_train,x_val, y_val,mini_batch_sz=100, n_epochs=75, acc_freq=100)"
   ]
  },
  {
   "cell_type": "code",
   "execution_count": 62,
   "metadata": {},
   "outputs": [
    {
     "data": {
      "text/plain": [
       "0.455"
      ]
     },
     "execution_count": 62,
     "metadata": {},
     "output_type": "execute_result"
    }
   ],
   "source": [
    "accel_net5.accuracy(x_test, y_test, mini_batch_sz = 100)"
   ]
  },
  {
   "cell_type": "code",
   "execution_count": 63,
   "metadata": {},
   "outputs": [
    {
     "data": {
      "image/png": "[encoded data removed]",
      "text/plain": [
       "<Figure size 720x720 with 25 Axes>"
      ]
     },
     "metadata": {
      "needs_background": "light"
     },
     "output_type": "display_data"
    }
   ],
   "source": [
    "plot_weights(accel_net5.layers[0].wts.transpose(0, 2, 3, 1), saveFig=False, filename='convWts_adam_train_20epoch.png')"
   ]
  },
  {
   "cell_type": "code",
   "execution_count": 64,
   "metadata": {},
   "outputs": [
    {
     "name": "stdout",
     "output_type": "stream",
     "text": [
      "Starting to train...\n",
      "18100 iterations. 181 iter/epoch.\n",
      "Time taken for iteration 0:  0.002083305517832438\n",
      "  Train acc: 0.142, Val acc: 0.5\n",
      "  Train acc: 0.158, Val acc: 0.0\n",
      "  Train acc: 0.182, Val acc: 0.0\n",
      "  Train acc: 0.222, Val acc: 0.5\n",
      "  Train acc: 0.212, Val acc: 0.5\n",
      "  Train acc: 0.228, Val acc: 0.5\n",
      "  Train acc: 0.278, Val acc: 0.5\n",
      "  Train acc: 0.24, Val acc: 0.0\n",
      "  Train acc: 0.272, Val acc: 0.5\n",
      "  Train acc: 0.266, Val acc: 0.0\n",
      "  Train acc: 0.286, Val acc: 0.0\n",
      "  Train acc: 0.286, Val acc: 0.0\n",
      "  Train acc: 0.286, Val acc: 0.0\n",
      "  Train acc: 0.278, Val acc: 0.0\n",
      "  Train acc: 0.306, Val acc: 0.0\n",
      "  Train acc: 0.288, Val acc: 0.0\n",
      "  Train acc: 0.322, Val acc: 0.0\n",
      "  Train acc: 0.354, Val acc: 0.0\n",
      "  Train acc: 0.338, Val acc: 0.0\n",
      "  Train acc: 0.36, Val acc: 0.0\n",
      "  Train acc: 0.388, Val acc: 0.0\n",
      "  Train acc: 0.372, Val acc: 0.0\n",
      "  Train acc: 0.326, Val acc: 0.0\n",
      "  Train acc: 0.322, Val acc: 0.0\n",
      "  Train acc: 0.352, Val acc: 0.0\n",
      "  Train acc: 0.37, Val acc: 0.0\n",
      "  Train acc: 0.35, Val acc: 0.0\n",
      "  Train acc: 0.372, Val acc: 0.0\n",
      "  Train acc: 0.358, Val acc: 0.0\n",
      "  Train acc: 0.402, Val acc: 0.0\n",
      "  Train acc: 0.378, Val acc: 0.0\n",
      "  Train acc: 0.358, Val acc: 0.0\n",
      "  Train acc: 0.336, Val acc: 0.0\n",
      "  Train acc: 0.362, Val acc: 0.0\n",
      "  Train acc: 0.414, Val acc: 0.0\n",
      "  Train acc: 0.384, Val acc: 0.0\n",
      "  Train acc: 0.402, Val acc: 0.0\n",
      "  Train acc: 0.402, Val acc: 0.0\n",
      "  Train acc: 0.406, Val acc: 0.0\n",
      "  Train acc: 0.372, Val acc: 0.0\n",
      "  Train acc: 0.412, Val acc: 0.0\n",
      "  Train acc: 0.366, Val acc: 0.0\n",
      "  Train acc: 0.446, Val acc: 0.0\n",
      "  Train acc: 0.39, Val acc: 0.0\n",
      "  Train acc: 0.428, Val acc: 0.0\n",
      "  Train acc: 0.43, Val acc: 0.0\n",
      "  Train acc: 0.42, Val acc: 0.0\n",
      "  Train acc: 0.42, Val acc: 0.0\n",
      "  Train acc: 0.426, Val acc: 0.0\n",
      "  Train acc: 0.37, Val acc: 0.0\n",
      "  Train acc: 0.418, Val acc: 0.0\n",
      "  Train acc: 0.43, Val acc: 0.0\n",
      "  Train acc: 0.43, Val acc: 0.0\n",
      "  Train acc: 0.422, Val acc: 0.0\n",
      "  Train acc: 0.416, Val acc: 0.0\n",
      "  Train acc: 0.414, Val acc: 0.0\n",
      "  Train acc: 0.416, Val acc: 0.0\n",
      "  Train acc: 0.406, Val acc: 0.0\n",
      "  Train acc: 0.408, Val acc: 0.0\n",
      "  Train acc: 0.442, Val acc: 0.0\n",
      "  Train acc: 0.406, Val acc: 0.0\n",
      "  Train acc: 0.438, Val acc: 0.0\n",
      "  Train acc: 0.422, Val acc: 0.0\n",
      "  Train acc: 0.422, Val acc: 0.0\n",
      "  Train acc: 0.428, Val acc: 0.0\n",
      "  Train acc: 0.446, Val acc: 0.0\n",
      "  Train acc: 0.438, Val acc: 0.0\n",
      "  Train acc: 0.46, Val acc: 0.0\n",
      "  Train acc: 0.462, Val acc: 0.0\n",
      "  Train acc: 0.466, Val acc: 0.0\n",
      "  Train acc: 0.428, Val acc: 0.0\n",
      "  Train acc: 0.474, Val acc: 0.0\n",
      "  Train acc: 0.454, Val acc: 0.0\n",
      "  Train acc: 0.45, Val acc: 0.0\n",
      "  Train acc: 0.46, Val acc: 0.0\n",
      "  Train acc: 0.492, Val acc: 0.0\n",
      "  Train acc: 0.468, Val acc: 0.0\n",
      "  Train acc: 0.49, Val acc: 0.0\n",
      "  Train acc: 0.466, Val acc: 0.0\n",
      "  Train acc: 0.48, Val acc: 0.0\n",
      "  Train acc: 0.452, Val acc: 0.0\n",
      "  Train acc: 0.476, Val acc: 0.0\n",
      "  Train acc: 0.466, Val acc: 0.0\n",
      "  Train acc: 0.468, Val acc: 0.0\n",
      "  Train acc: 0.452, Val acc: 0.0\n",
      "  Train acc: 0.486, Val acc: 0.0\n",
      "  Train acc: 0.494, Val acc: 0.0\n",
      "  Train acc: 0.486, Val acc: 0.0\n",
      "  Train acc: 0.544, Val acc: 0.5\n",
      "  Train acc: 0.454, Val acc: 0.0\n",
      "  Train acc: 0.472, Val acc: 0.5\n",
      "  Train acc: 0.492, Val acc: 0.0\n",
      "  Train acc: 0.462, Val acc: 0.0\n",
      "  Train acc: 0.442, Val acc: 0.5\n",
      "  Train acc: 0.442, Val acc: 0.5\n",
      "  Train acc: 0.456, Val acc: 0.0\n",
      "  Train acc: 0.496, Val acc: 0.5\n",
      "  Train acc: 0.518, Val acc: 0.0\n",
      "  Train acc: 0.512, Val acc: 0.5\n",
      "  Train acc: 0.524, Val acc: 0.5\n",
      "  Train acc: 0.452, Val acc: 0.5\n",
      "  Train acc: 0.468, Val acc: 0.5\n",
      "  Train acc: 0.466, Val acc: 0.0\n",
      "  Train acc: 0.472, Val acc: 0.5\n",
      "  Train acc: 0.51, Val acc: 0.5\n",
      "  Train acc: 0.494, Val acc: 0.5\n",
      "  Train acc: 0.498, Val acc: 0.5\n",
      "  Train acc: 0.544, Val acc: 0.5\n",
      "  Train acc: 0.512, Val acc: 0.5\n",
      "  Train acc: 0.484, Val acc: 0.5\n",
      "  Train acc: 0.546, Val acc: 0.5\n",
      "  Train acc: 0.498, Val acc: 0.5\n",
      "  Train acc: 0.502, Val acc: 0.5\n",
      "  Train acc: 0.512, Val acc: 0.5\n",
      "  Train acc: 0.498, Val acc: 0.5\n",
      "  Train acc: 0.478, Val acc: 0.5\n",
      "  Train acc: 0.456, Val acc: 0.0\n",
      "  Train acc: 0.48, Val acc: 0.5\n",
      "  Train acc: 0.522, Val acc: 0.5\n",
      "  Train acc: 0.56, Val acc: 0.5\n",
      "  Train acc: 0.48, Val acc: 0.5\n",
      "  Train acc: 0.526, Val acc: 0.5\n",
      "  Train acc: 0.538, Val acc: 0.5\n",
      "  Train acc: 0.526, Val acc: 0.5\n",
      "  Train acc: 0.488, Val acc: 0.5\n",
      "  Train acc: 0.502, Val acc: 0.5\n",
      "  Train acc: 0.524, Val acc: 0.5\n",
      "  Train acc: 0.516, Val acc: 0.5\n",
      "  Train acc: 0.546, Val acc: 0.5\n",
      "  Train acc: 0.498, Val acc: 0.5\n",
      "  Train acc: 0.52, Val acc: 0.5\n",
      "  Train acc: 0.57, Val acc: 0.5\n",
      "  Train acc: 0.504, Val acc: 0.5\n",
      "  Train acc: 0.5, Val acc: 0.5\n",
      "  Train acc: 0.468, Val acc: 0.5\n",
      "  Train acc: 0.512, Val acc: 0.5\n",
      "  Train acc: 0.506, Val acc: 0.5\n",
      "  Train acc: 0.57, Val acc: 0.5\n",
      "  Train acc: 0.532, Val acc: 0.5\n",
      "  Train acc: 0.54, Val acc: 0.5\n",
      "  Train acc: 0.51, Val acc: 0.5\n",
      "  Train acc: 0.556, Val acc: 0.5\n",
      "  Train acc: 0.544, Val acc: 0.5\n",
      "  Train acc: 0.524, Val acc: 0.5\n",
      "  Train acc: 0.52, Val acc: 0.5\n",
      "  Train acc: 0.518, Val acc: 0.5\n",
      "  Train acc: 0.548, Val acc: 0.5\n",
      "  Train acc: 0.538, Val acc: 0.5\n",
      "  Train acc: 0.59, Val acc: 0.5\n",
      "  Train acc: 0.538, Val acc: 0.5\n",
      "  Train acc: 0.544, Val acc: 0.5\n",
      "  Train acc: 0.59, Val acc: 0.5\n",
      "  Train acc: 0.55, Val acc: 0.5\n",
      "  Train acc: 0.576, Val acc: 0.5\n",
      "  Train acc: 0.556, Val acc: 0.5\n",
      "  Train acc: 0.518, Val acc: 0.5\n",
      "  Train acc: 0.52, Val acc: 0.5\n",
      "  Train acc: 0.536, Val acc: 0.5\n",
      "  Train acc: 0.51, Val acc: 0.5\n",
      "  Train acc: 0.536, Val acc: 0.5\n",
      "  Train acc: 0.568, Val acc: 0.5\n",
      "  Train acc: 0.522, Val acc: 0.5\n",
      "  Train acc: 0.554, Val acc: 0.5\n",
      "  Train acc: 0.582, Val acc: 0.5\n",
      "  Train acc: 0.546, Val acc: 0.5\n",
      "  Train acc: 0.546, Val acc: 0.5\n",
      "  Train acc: 0.57, Val acc: 0.5\n",
      "  Train acc: 0.562, Val acc: 0.5\n",
      "  Train acc: 0.582, Val acc: 0.5\n",
      "  Train acc: 0.51, Val acc: 0.5\n",
      "  Train acc: 0.538, Val acc: 0.5\n",
      "  Train acc: 0.54, Val acc: 0.5\n",
      "  Train acc: 0.532, Val acc: 0.5\n",
      "  Train acc: 0.536, Val acc: 0.5\n",
      "  Train acc: 0.598, Val acc: 0.5\n",
      "  Train acc: 0.53, Val acc: 0.5\n",
      "  Train acc: 0.558, Val acc: 0.5\n",
      "  Train acc: 0.568, Val acc: 0.5\n",
      "  Train acc: 0.586, Val acc: 0.5\n",
      "  Train acc: 0.54, Val acc: 0.5\n",
      "  Train acc: 0.538, Val acc: 0.5\n",
      "Finished training!\n"
     ]
    }
   ],
   "source": [
    "an_loss6 = None\n",
    "an_train_acc6 = None\n",
    "an_val_acc6 = None\n",
    "\n",
    "accel_net6 = ConvNet4Accel(input_shape = (3,32,32), wt_scale = 0.001)\n",
    "accel_net6.compile('adam', lr = 0.0001)\n",
    "\n",
    "an_loss6, an_train_acc6, an_val_acc6 = accel_net6.fit(x_train, y_train,x_val, y_val,mini_batch_sz=25, n_epochs=100, acc_freq=100)"
   ]
  },
  {
   "cell_type": "code",
   "execution_count": 67,
   "metadata": {},
   "outputs": [
    {
     "data": {
      "image/png": "[encoded data removed]",
      "text/plain": [
       "<Figure size 720x720 with 25 Axes>"
      ]
     },
     "metadata": {
      "needs_background": "light"
     },
     "output_type": "display_data"
    }
   ],
   "source": [
    "plot_weights(accel_net6.layers[0].wts.transpose(0, 2, 3, 1), saveFig=False, filename='convWts_adam_train_20epoch.png')"
   ]
  },
  {
   "cell_type": "code",
   "execution_count": 66,
   "metadata": {},
   "outputs": [
    {
     "name": "stdout",
     "output_type": "stream",
     "text": [
      "Starting to train...\n",
      "45400 iterations. 454 iter/epoch.\n",
      "Time taken for iteration 0:  0.0012261271476745605\n",
      "  Train acc: 0.14, Val acc: 0.5\n",
      "  Train acc: 0.19, Val acc: 0.5\n",
      "  Train acc: 0.2, Val acc: 0.5\n",
      "  Train acc: 0.238, Val acc: 0.0\n",
      "  Train acc: 0.288, Val acc: 0.0\n",
      "  Train acc: 0.298, Val acc: 0.0\n",
      "  Train acc: 0.334, Val acc: 0.0\n",
      "  Train acc: 0.348, Val acc: 0.0\n",
      "  Train acc: 0.348, Val acc: 0.0\n",
      "  Train acc: 0.332, Val acc: 0.0\n",
      "  Train acc: 0.346, Val acc: 0.0\n",
      "  Train acc: 0.384, Val acc: 0.0\n",
      "  Train acc: 0.374, Val acc: 0.0\n",
      "  Train acc: 0.384, Val acc: 0.0\n",
      "  Train acc: 0.396, Val acc: 0.5\n",
      "  Train acc: 0.398, Val acc: 0.0\n",
      "  Train acc: 0.42, Val acc: 0.0\n",
      "  Train acc: 0.384, Val acc: 0.0\n",
      "  Train acc: 0.446, Val acc: 0.0\n",
      "  Train acc: 0.404, Val acc: 0.0\n",
      "  Train acc: 0.434, Val acc: 0.0\n",
      "  Train acc: 0.414, Val acc: 0.0\n",
      "  Train acc: 0.43, Val acc: 0.5\n",
      "  Train acc: 0.464, Val acc: 0.0\n",
      "  Train acc: 0.48, Val acc: 0.5\n",
      "  Train acc: 0.482, Val acc: 0.5\n",
      "  Train acc: 0.502, Val acc: 0.5\n",
      "  Train acc: 0.43, Val acc: 0.5\n",
      "  Train acc: 0.478, Val acc: 0.5\n",
      "  Train acc: 0.486, Val acc: 0.5\n",
      "  Train acc: 0.5, Val acc: 0.5\n",
      "  Train acc: 0.474, Val acc: 0.0\n",
      "  Train acc: 0.49, Val acc: 0.5\n",
      "  Train acc: 0.474, Val acc: 0.5\n",
      "  Train acc: 0.532, Val acc: 0.5\n",
      "  Train acc: 0.494, Val acc: 0.5\n",
      "  Train acc: 0.532, Val acc: 0.5\n",
      "  Train acc: 0.502, Val acc: 0.5\n",
      "  Train acc: 0.48, Val acc: 0.5\n",
      "  Train acc: 0.53, Val acc: 0.5\n",
      "  Train acc: 0.578, Val acc: 0.5\n",
      "  Train acc: 0.532, Val acc: 0.5\n",
      "  Train acc: 0.53, Val acc: 0.5\n",
      "  Train acc: 0.488, Val acc: 0.5\n",
      "  Train acc: 0.528, Val acc: 0.5\n",
      "  Train acc: 0.504, Val acc: 0.5\n",
      "  Train acc: 0.558, Val acc: 0.5\n",
      "  Train acc: 0.566, Val acc: 0.5\n",
      "  Train acc: 0.53, Val acc: 0.5\n",
      "  Train acc: 0.522, Val acc: 0.5\n",
      "  Train acc: 0.546, Val acc: 0.5\n",
      "  Train acc: 0.59, Val acc: 0.5\n",
      "  Train acc: 0.624, Val acc: 0.5\n",
      "  Train acc: 0.554, Val acc: 0.5\n",
      "  Train acc: 0.554, Val acc: 0.5\n",
      "  Train acc: 0.534, Val acc: 0.5\n",
      "  Train acc: 0.562, Val acc: 0.5\n",
      "  Train acc: 0.586, Val acc: 0.5\n",
      "  Train acc: 0.604, Val acc: 0.5\n",
      "  Train acc: 0.548, Val acc: 0.5\n",
      "  Train acc: 0.592, Val acc: 0.5\n",
      "  Train acc: 0.58, Val acc: 0.5\n",
      "  Train acc: 0.598, Val acc: 0.5\n",
      "  Train acc: 0.61, Val acc: 0.5\n",
      "  Train acc: 0.6, Val acc: 0.5\n",
      "  Train acc: 0.632, Val acc: 0.5\n",
      "  Train acc: 0.648, Val acc: 0.5\n",
      "  Train acc: 0.608, Val acc: 0.5\n",
      "  Train acc: 0.622, Val acc: 0.5\n",
      "  Train acc: 0.646, Val acc: 0.5\n",
      "  Train acc: 0.592, Val acc: 0.5\n",
      "  Train acc: 0.618, Val acc: 0.5\n",
      "  Train acc: 0.602, Val acc: 0.5\n",
      "  Train acc: 0.618, Val acc: 0.5\n",
      "  Train acc: 0.672, Val acc: 0.5\n",
      "  Train acc: 0.67, Val acc: 0.5\n",
      "  Train acc: 0.632, Val acc: 0.5\n",
      "  Train acc: 0.69, Val acc: 0.5\n",
      "  Train acc: 0.672, Val acc: 0.5\n",
      "  Train acc: 0.706, Val acc: 0.5\n",
      "  Train acc: 0.67, Val acc: 0.5\n",
      "  Train acc: 0.642, Val acc: 0.5\n",
      "  Train acc: 0.65, Val acc: 0.5\n",
      "  Train acc: 0.694, Val acc: 0.5\n",
      "  Train acc: 0.678, Val acc: 0.5\n",
      "  Train acc: 0.656, Val acc: 0.5\n",
      "  Train acc: 0.688, Val acc: 0.5\n",
      "  Train acc: 0.732, Val acc: 0.5\n",
      "  Train acc: 0.638, Val acc: 0.5\n",
      "  Train acc: 0.68, Val acc: 0.5\n",
      "  Train acc: 0.72, Val acc: 0.5\n",
      "  Train acc: 0.71, Val acc: 0.5\n",
      "  Train acc: 0.704, Val acc: 0.5\n",
      "  Train acc: 0.718, Val acc: 0.5\n",
      "  Train acc: 0.72, Val acc: 0.5\n",
      "  Train acc: 0.708, Val acc: 0.5\n",
      "  Train acc: 0.74, Val acc: 0.5\n",
      "  Train acc: 0.738, Val acc: 0.5\n",
      "  Train acc: 0.728, Val acc: 0.5\n",
      "  Train acc: 0.74, Val acc: 0.5\n",
      "  Train acc: 0.744, Val acc: 0.5\n",
      "  Train acc: 0.752, Val acc: 0.5\n",
      "  Train acc: 0.718, Val acc: 0.5\n",
      "  Train acc: 0.75, Val acc: 0.5\n",
      "  Train acc: 0.712, Val acc: 0.5\n",
      "  Train acc: 0.736, Val acc: 0.5\n",
      "  Train acc: 0.742, Val acc: 0.5\n",
      "  Train acc: 0.746, Val acc: 0.5\n",
      "  Train acc: 0.762, Val acc: 0.5\n",
      "  Train acc: 0.736, Val acc: 0.5\n",
      "  Train acc: 0.746, Val acc: 0.5\n",
      "  Train acc: 0.768, Val acc: 0.5\n",
      "  Train acc: 0.77, Val acc: 0.5\n",
      "  Train acc: 0.762, Val acc: 0.5\n",
      "  Train acc: 0.75, Val acc: 0.5\n",
      "  Train acc: 0.816, Val acc: 0.5\n",
      "  Train acc: 0.778, Val acc: 0.5\n",
      "  Train acc: 0.778, Val acc: 0.5\n",
      "  Train acc: 0.804, Val acc: 0.5\n",
      "  Train acc: 0.776, Val acc: 0.5\n",
      "  Train acc: 0.804, Val acc: 0.5\n",
      "  Train acc: 0.786, Val acc: 0.5\n",
      "  Train acc: 0.784, Val acc: 0.5\n",
      "  Train acc: 0.82, Val acc: 0.5\n",
      "  Train acc: 0.838, Val acc: 0.5\n",
      "  Train acc: 0.78, Val acc: 0.5\n",
      "  Train acc: 0.814, Val acc: 0.5\n",
      "  Train acc: 0.822, Val acc: 0.5\n",
      "  Train acc: 0.844, Val acc: 0.5\n",
      "  Train acc: 0.836, Val acc: 0.5\n",
      "  Train acc: 0.814, Val acc: 0.5\n",
      "  Train acc: 0.81, Val acc: 0.5\n",
      "  Train acc: 0.856, Val acc: 0.5\n",
      "  Train acc: 0.85, Val acc: 0.5\n",
      "  Train acc: 0.828, Val acc: 0.5\n",
      "  Train acc: 0.846, Val acc: 0.5\n",
      "  Train acc: 0.848, Val acc: 0.5\n",
      "  Train acc: 0.87, Val acc: 0.5\n",
      "  Train acc: 0.856, Val acc: 0.5\n",
      "  Train acc: 0.854, Val acc: 0.5\n",
      "  Train acc: 0.838, Val acc: 0.5\n",
      "  Train acc: 0.89, Val acc: 0.5\n",
      "  Train acc: 0.856, Val acc: 0.5\n",
      "  Train acc: 0.856, Val acc: 0.5\n",
      "  Train acc: 0.884, Val acc: 0.5\n",
      "  Train acc: 0.858, Val acc: 0.5\n",
      "  Train acc: 0.868, Val acc: 0.5\n",
      "  Train acc: 0.87, Val acc: 0.5\n",
      "  Train acc: 0.862, Val acc: 0.5\n",
      "  Train acc: 0.886, Val acc: 0.5\n",
      "  Train acc: 0.866, Val acc: 0.5\n",
      "  Train acc: 0.91, Val acc: 0.5\n",
      "  Train acc: 0.86, Val acc: 0.5\n",
      "  Train acc: 0.886, Val acc: 0.5\n",
      "  Train acc: 0.868, Val acc: 0.5\n",
      "  Train acc: 0.93, Val acc: 0.5\n",
      "  Train acc: 0.87, Val acc: 0.5\n",
      "  Train acc: 0.866, Val acc: 0.5\n",
      "  Train acc: 0.898, Val acc: 0.5\n",
      "  Train acc: 0.918, Val acc: 0.5\n",
      "  Train acc: 0.916, Val acc: 0.5\n",
      "  Train acc: 0.916, Val acc: 0.5\n",
      "  Train acc: 0.89, Val acc: 0.5\n",
      "  Train acc: 0.908, Val acc: 0.5\n",
      "  Train acc: 0.918, Val acc: 0.5\n",
      "  Train acc: 0.908, Val acc: 0.5\n",
      "  Train acc: 0.876, Val acc: 0.5\n",
      "  Train acc: 0.904, Val acc: 0.5\n",
      "  Train acc: 0.9, Val acc: 0.5\n",
      "  Train acc: 0.924, Val acc: 0.5\n",
      "  Train acc: 0.954, Val acc: 0.5\n",
      "  Train acc: 0.916, Val acc: 0.5\n",
      "  Train acc: 0.906, Val acc: 0.5\n",
      "  Train acc: 0.95, Val acc: 0.5\n",
      "  Train acc: 0.936, Val acc: 0.5\n",
      "  Train acc: 0.95, Val acc: 0.5\n",
      "  Train acc: 0.914, Val acc: 0.5\n",
      "  Train acc: 0.954, Val acc: 0.5\n",
      "  Train acc: 0.92, Val acc: 0.5\n",
      "  Train acc: 0.952, Val acc: 0.5\n",
      "  Train acc: 0.962, Val acc: 0.5\n",
      "  Train acc: 0.948, Val acc: 0.5\n",
      "  Train acc: 0.93, Val acc: 0.5\n",
      "  Train acc: 0.96, Val acc: 0.5\n",
      "  Train acc: 0.958, Val acc: 0.5\n",
      "  Train acc: 0.954, Val acc: 0.5\n",
      "  Train acc: 0.932, Val acc: 0.5\n",
      "  Train acc: 0.93, Val acc: 0.5\n",
      "  Train acc: 0.942, Val acc: 0.5\n",
      "  Train acc: 0.962, Val acc: 0.5\n",
      "  Train acc: 0.96, Val acc: 0.5\n",
      "  Train acc: 0.96, Val acc: 0.5\n",
      "  Train acc: 0.958, Val acc: 0.5\n",
      "  Train acc: 0.958, Val acc: 0.5\n",
      "  Train acc: 0.976, Val acc: 0.5\n",
      "  Train acc: 0.954, Val acc: 0.5\n",
      "  Train acc: 0.97, Val acc: 0.5\n",
      "  Train acc: 0.954, Val acc: 0.5\n",
      "  Train acc: 0.976, Val acc: 0.5\n"
     ]
    },
    {
     "ename": "KeyboardInterrupt",
     "evalue": "",
     "output_type": "error",
     "traceback": [
      "\u001b[1;31m---------------------------------------------------------------------------\u001b[0m",
      "\u001b[1;31mKeyboardInterrupt\u001b[0m                         Traceback (most recent call last)",
      "\u001b[1;32m<ipython-input-66-d0f5211f4783>\u001b[0m in \u001b[0;36m<module>\u001b[1;34m\u001b[0m\n\u001b[0;32m      6\u001b[0m \u001b[0maccel_net6\u001b[0m\u001b[1;33m.\u001b[0m\u001b[0mcompile\u001b[0m\u001b[1;33m(\u001b[0m\u001b[1;34m'adam'\u001b[0m\u001b[1;33m,\u001b[0m \u001b[0mlr\u001b[0m \u001b[1;33m=\u001b[0m \u001b[1;36m0.0005\u001b[0m\u001b[1;33m)\u001b[0m\u001b[1;33m\u001b[0m\u001b[1;33m\u001b[0m\u001b[0m\n\u001b[0;32m      7\u001b[0m \u001b[1;33m\u001b[0m\u001b[0m\n\u001b[1;32m----> 8\u001b[1;33m \u001b[0man_loss6\u001b[0m\u001b[1;33m,\u001b[0m \u001b[0man_train_acc6\u001b[0m\u001b[1;33m,\u001b[0m \u001b[0man_val_acc6\u001b[0m \u001b[1;33m=\u001b[0m \u001b[0maccel_net6\u001b[0m\u001b[1;33m.\u001b[0m\u001b[0mfit\u001b[0m\u001b[1;33m(\u001b[0m\u001b[0mx_train\u001b[0m\u001b[1;33m,\u001b[0m \u001b[0my_train\u001b[0m\u001b[1;33m,\u001b[0m\u001b[0mx_val\u001b[0m\u001b[1;33m,\u001b[0m \u001b[0my_val\u001b[0m\u001b[1;33m,\u001b[0m\u001b[0mmini_batch_sz\u001b[0m\u001b[1;33m=\u001b[0m\u001b[1;36m10\u001b[0m\u001b[1;33m,\u001b[0m \u001b[0mn_epochs\u001b[0m\u001b[1;33m=\u001b[0m\u001b[1;36m100\u001b[0m\u001b[1;33m,\u001b[0m \u001b[0macc_freq\u001b[0m\u001b[1;33m=\u001b[0m\u001b[1;36m100\u001b[0m\u001b[1;33m)\u001b[0m\u001b[1;33m\u001b[0m\u001b[1;33m\u001b[0m\u001b[0m\n\u001b[0m",
      "\u001b[1;32m~\\Desktop\\Neural Networks\\Proj3 git\\network.py\u001b[0m in \u001b[0;36mfit\u001b[1;34m(self, x_train, y_train, x_validate, y_validate, mini_batch_sz, n_epochs, acc_freq)\u001b[0m\n\u001b[0;32m    115\u001b[0m             \u001b[1;31m#print(\"loss\", loss)\u001b[0m\u001b[1;33m\u001b[0m\u001b[1;33m\u001b[0m\u001b[1;33m\u001b[0m\u001b[0m\n\u001b[0;32m    116\u001b[0m             \u001b[1;32mfor\u001b[0m \u001b[0mlayer\u001b[0m \u001b[1;32min\u001b[0m \u001b[0mself\u001b[0m\u001b[1;33m.\u001b[0m\u001b[0mlayers\u001b[0m\u001b[1;33m:\u001b[0m\u001b[1;33m\u001b[0m\u001b[1;33m\u001b[0m\u001b[0m\n\u001b[1;32m--> 117\u001b[1;33m                 \u001b[0mlayer\u001b[0m\u001b[1;33m.\u001b[0m\u001b[0mupdate_weights\u001b[0m\u001b[1;33m(\u001b[0m\u001b[1;33m)\u001b[0m\u001b[1;33m\u001b[0m\u001b[1;33m\u001b[0m\u001b[0m\n\u001b[0m\u001b[0;32m    118\u001b[0m \u001b[1;33m\u001b[0m\u001b[0m\n\u001b[0;32m    119\u001b[0m             \u001b[1;31m# NOTE: This print statement should go in your training loop\u001b[0m\u001b[1;33m\u001b[0m\u001b[1;33m\u001b[0m\u001b[1;33m\u001b[0m\u001b[0m\n",
      "\u001b[1;32m~\\Desktop\\Neural Networks\\Proj3 git\\layer.py\u001b[0m in \u001b[0;36mupdate_weights\u001b[1;34m(self)\u001b[0m\n\u001b[0;32m    281\u001b[0m         \u001b[0mself\u001b[0m\u001b[1;33m.\u001b[0m\u001b[0mwt_optimizer\u001b[0m\u001b[1;33m.\u001b[0m\u001b[0mprepare\u001b[0m\u001b[1;33m(\u001b[0m\u001b[0mself\u001b[0m\u001b[1;33m.\u001b[0m\u001b[0mwts\u001b[0m\u001b[1;33m,\u001b[0m \u001b[0mself\u001b[0m\u001b[1;33m.\u001b[0m\u001b[0md_wts\u001b[0m\u001b[1;33m)\u001b[0m\u001b[1;33m\u001b[0m\u001b[1;33m\u001b[0m\u001b[0m\n\u001b[0;32m    282\u001b[0m         \u001b[1;31m# Do the weight update\u001b[0m\u001b[1;33m\u001b[0m\u001b[1;33m\u001b[0m\u001b[1;33m\u001b[0m\u001b[0m\n\u001b[1;32m--> 283\u001b[1;33m         \u001b[0mnew_wts\u001b[0m \u001b[1;33m=\u001b[0m \u001b[0mself\u001b[0m\u001b[1;33m.\u001b[0m\u001b[0mwt_optimizer\u001b[0m\u001b[1;33m.\u001b[0m\u001b[0mupdate_weights\u001b[0m\u001b[1;33m(\u001b[0m\u001b[1;33m)\u001b[0m\u001b[1;33m\u001b[0m\u001b[1;33m\u001b[0m\u001b[0m\n\u001b[0m\u001b[0;32m    284\u001b[0m \u001b[1;33m\u001b[0m\u001b[0m\n\u001b[0;32m    285\u001b[0m         \u001b[1;31m# Provide the optimizer with the current bias and its gradients\u001b[0m\u001b[1;33m\u001b[0m\u001b[1;33m\u001b[0m\u001b[1;33m\u001b[0m\u001b[0m\n",
      "\u001b[1;32m~\\Desktop\\Neural Networks\\Proj3 git\\optimizer.py\u001b[0m in \u001b[0;36mupdate_weights\u001b[1;34m(self)\u001b[0m\n\u001b[0;32m    141\u001b[0m             \u001b[0mself\u001b[0m\u001b[1;33m.\u001b[0m\u001b[0mv\u001b[0m \u001b[1;33m=\u001b[0m \u001b[0mnp\u001b[0m\u001b[1;33m.\u001b[0m\u001b[0mzeros\u001b[0m\u001b[1;33m(\u001b[0m\u001b[0mself\u001b[0m\u001b[1;33m.\u001b[0m\u001b[0mwts\u001b[0m\u001b[1;33m.\u001b[0m\u001b[0mshape\u001b[0m\u001b[1;33m)\u001b[0m\u001b[1;33m\u001b[0m\u001b[1;33m\u001b[0m\u001b[0m\n\u001b[0;32m    142\u001b[0m         \u001b[0mself\u001b[0m\u001b[1;33m.\u001b[0m\u001b[0mt\u001b[0m \u001b[1;33m=\u001b[0m \u001b[0mself\u001b[0m\u001b[1;33m.\u001b[0m\u001b[0mt\u001b[0m \u001b[1;33m+\u001b[0m \u001b[1;36m1\u001b[0m\u001b[1;33m\u001b[0m\u001b[1;33m\u001b[0m\u001b[0m\n\u001b[1;32m--> 143\u001b[1;33m         \u001b[0mself\u001b[0m\u001b[1;33m.\u001b[0m\u001b[0mm\u001b[0m \u001b[1;33m=\u001b[0m \u001b[0mself\u001b[0m\u001b[1;33m.\u001b[0m\u001b[0mbeta1\u001b[0m\u001b[1;33m*\u001b[0m\u001b[0mself\u001b[0m\u001b[1;33m.\u001b[0m\u001b[0mm\u001b[0m \u001b[1;33m+\u001b[0m \u001b[1;33m(\u001b[0m\u001b[1;36m1\u001b[0m\u001b[1;33m-\u001b[0m\u001b[0mself\u001b[0m\u001b[1;33m.\u001b[0m\u001b[0mbeta1\u001b[0m\u001b[1;33m)\u001b[0m\u001b[1;33m*\u001b[0m\u001b[0mself\u001b[0m\u001b[1;33m.\u001b[0m\u001b[0md_wts\u001b[0m\u001b[1;33m\u001b[0m\u001b[1;33m\u001b[0m\u001b[0m\n\u001b[0m\u001b[0;32m    144\u001b[0m         \u001b[0mself\u001b[0m\u001b[1;33m.\u001b[0m\u001b[0mv\u001b[0m \u001b[1;33m=\u001b[0m \u001b[0mself\u001b[0m\u001b[1;33m.\u001b[0m\u001b[0mbeta2\u001b[0m\u001b[1;33m*\u001b[0m\u001b[0mself\u001b[0m\u001b[1;33m.\u001b[0m\u001b[0mv\u001b[0m \u001b[1;33m+\u001b[0m \u001b[1;33m(\u001b[0m\u001b[1;36m1\u001b[0m\u001b[1;33m-\u001b[0m\u001b[0mself\u001b[0m\u001b[1;33m.\u001b[0m\u001b[0mbeta2\u001b[0m\u001b[1;33m)\u001b[0m\u001b[1;33m*\u001b[0m\u001b[0mnp\u001b[0m\u001b[1;33m.\u001b[0m\u001b[0msquare\u001b[0m\u001b[1;33m(\u001b[0m\u001b[0mself\u001b[0m\u001b[1;33m.\u001b[0m\u001b[0md_wts\u001b[0m\u001b[1;33m)\u001b[0m\u001b[1;33m\u001b[0m\u001b[1;33m\u001b[0m\u001b[0m\n\u001b[0;32m    145\u001b[0m         \u001b[0mn\u001b[0m \u001b[1;33m=\u001b[0m \u001b[0mself\u001b[0m\u001b[1;33m.\u001b[0m\u001b[0mm\u001b[0m\u001b[1;33m/\u001b[0m\u001b[1;33m(\u001b[0m\u001b[1;36m1\u001b[0m\u001b[1;33m-\u001b[0m\u001b[0mself\u001b[0m\u001b[1;33m.\u001b[0m\u001b[0mbeta1\u001b[0m\u001b[1;33m**\u001b[0m\u001b[0mself\u001b[0m\u001b[1;33m.\u001b[0m\u001b[0mt\u001b[0m\u001b[1;33m)\u001b[0m\u001b[1;33m\u001b[0m\u001b[1;33m\u001b[0m\u001b[0m\n",
      "\u001b[1;31mKeyboardInterrupt\u001b[0m: "
     ]
    }
   ],
   "source": [
    "an_loss6 = None\n",
    "an_train_acc6 = None\n",
    "an_val_acc6 = None\n",
    "\n",
    "accel_net6 = ConvNet4Accel(input_shape = (3,32,32), wt_scale = 0.001, reg = 0.0001)\n",
    "accel_net6.compile('adam', lr = 0.0005)\n",
    "\n",
    "an_loss6, an_train_acc6, an_val_acc6 = accel_net6.fit(x_train, y_train,x_val, y_val,mini_batch_sz=10, n_epochs=100, acc_freq=100)"
   ]
  },
  {
   "cell_type": "code",
   "execution_count": null,
   "metadata": {},
   "outputs": [
    {
     "name": "stdout",
     "output_type": "stream",
     "text": [
      "Starting to train...\n",
      "45400 iterations. 454 iter/epoch.\n",
      "Time taken for iteration 0:  0.0011707305908203124\n",
      "  Train acc: 0.166, Val acc: 0.0\n",
      "  Train acc: 0.174, Val acc: 0.0\n",
      "  Train acc: 0.162, Val acc: 0.0\n",
      "  Train acc: 0.186, Val acc: 0.0\n",
      "  Train acc: 0.248, Val acc: 0.0\n",
      "  Train acc: 0.222, Val acc: 0.0\n",
      "  Train acc: 0.28, Val acc: 0.0\n",
      "  Train acc: 0.256, Val acc: 0.0\n",
      "  Train acc: 0.28, Val acc: 0.0\n",
      "  Train acc: 0.272, Val acc: 0.0\n",
      "  Train acc: 0.318, Val acc: 0.0\n",
      "  Train acc: 0.294, Val acc: 0.0\n",
      "  Train acc: 0.296, Val acc: 0.5\n",
      "  Train acc: 0.346, Val acc: 0.0\n",
      "  Train acc: 0.324, Val acc: 0.0\n",
      "  Train acc: 0.336, Val acc: 0.0\n",
      "  Train acc: 0.312, Val acc: 0.0\n",
      "  Train acc: 0.362, Val acc: 0.0\n",
      "  Train acc: 0.352, Val acc: 0.5\n",
      "  Train acc: 0.346, Val acc: 0.0\n",
      "  Train acc: 0.352, Val acc: 0.0\n",
      "  Train acc: 0.328, Val acc: 0.0\n",
      "  Train acc: 0.318, Val acc: 0.5\n",
      "  Train acc: 0.318, Val acc: 0.0\n",
      "  Train acc: 0.366, Val acc: 0.5\n",
      "  Train acc: 0.368, Val acc: 0.0\n",
      "  Train acc: 0.3, Val acc: 0.5\n",
      "  Train acc: 0.34, Val acc: 0.0\n",
      "  Train acc: 0.388, Val acc: 0.5\n",
      "  Train acc: 0.342, Val acc: 0.5\n",
      "  Train acc: 0.362, Val acc: 0.5\n",
      "  Train acc: 0.368, Val acc: 0.0\n",
      "  Train acc: 0.368, Val acc: 0.5\n",
      "  Train acc: 0.334, Val acc: 0.0\n",
      "  Train acc: 0.332, Val acc: 0.5\n",
      "  Train acc: 0.38, Val acc: 0.5\n",
      "  Train acc: 0.342, Val acc: 0.5\n",
      "  Train acc: 0.336, Val acc: 1.0\n",
      "  Train acc: 0.354, Val acc: 0.5\n",
      "  Train acc: 0.372, Val acc: 0.5\n",
      "  Train acc: 0.386, Val acc: 0.5\n",
      "  Train acc: 0.366, Val acc: 0.5\n",
      "  Train acc: 0.384, Val acc: 0.5\n",
      "  Train acc: 0.37, Val acc: 1.0\n",
      "  Train acc: 0.376, Val acc: 0.5\n",
      "  Train acc: 0.418, Val acc: 0.0\n",
      "  Train acc: 0.388, Val acc: 0.0\n",
      "  Train acc: 0.414, Val acc: 0.0\n",
      "  Train acc: 0.378, Val acc: 0.0\n",
      "  Train acc: 0.378, Val acc: 0.5\n",
      "  Train acc: 0.394, Val acc: 0.0\n",
      "  Train acc: 0.318, Val acc: 0.5\n",
      "  Train acc: 0.392, Val acc: 1.0\n",
      "  Train acc: 0.392, Val acc: 0.5\n",
      "  Train acc: 0.454, Val acc: 0.0\n",
      "  Train acc: 0.404, Val acc: 0.5\n",
      "  Train acc: 0.402, Val acc: 0.5\n",
      "  Train acc: 0.45, Val acc: 1.0\n",
      "  Train acc: 0.404, Val acc: 1.0\n",
      "  Train acc: 0.422, Val acc: 1.0\n",
      "  Train acc: 0.442, Val acc: 0.0\n",
      "  Train acc: 0.382, Val acc: 0.5\n",
      "  Train acc: 0.358, Val acc: 0.5\n",
      "  Train acc: 0.39, Val acc: 1.0\n",
      "  Train acc: 0.436, Val acc: 0.5\n",
      "  Train acc: 0.402, Val acc: 0.0\n",
      "  Train acc: 0.396, Val acc: 0.0\n",
      "  Train acc: 0.416, Val acc: 0.5\n",
      "  Train acc: 0.416, Val acc: 0.5\n",
      "  Train acc: 0.438, Val acc: 0.5\n",
      "  Train acc: 0.43, Val acc: 0.5\n",
      "  Train acc: 0.42, Val acc: 0.5\n",
      "  Train acc: 0.406, Val acc: 0.5\n",
      "  Train acc: 0.43, Val acc: 0.5\n",
      "  Train acc: 0.41, Val acc: 0.5\n",
      "  Train acc: 0.402, Val acc: 0.5\n",
      "  Train acc: 0.426, Val acc: 0.5\n",
      "  Train acc: 0.378, Val acc: 0.5\n",
      "  Train acc: 0.43, Val acc: 0.5\n",
      "  Train acc: 0.484, Val acc: 1.0\n",
      "  Train acc: 0.416, Val acc: 0.5\n",
      "  Train acc: 0.492, Val acc: 0.5\n",
      "  Train acc: 0.466, Val acc: 1.0\n",
      "  Train acc: 0.438, Val acc: 0.5\n",
      "  Train acc: 0.43, Val acc: 0.5\n",
      "  Train acc: 0.424, Val acc: 0.5\n",
      "  Train acc: 0.444, Val acc: 0.5\n",
      "  Train acc: 0.434, Val acc: 0.5\n",
      "  Train acc: 0.416, Val acc: 0.0\n",
      "  Train acc: 0.416, Val acc: 0.5\n",
      "  Train acc: 0.428, Val acc: 0.5\n",
      "  Train acc: 0.406, Val acc: 0.5\n",
      "  Train acc: 0.478, Val acc: 0.5\n",
      "  Train acc: 0.448, Val acc: 0.5\n",
      "  Train acc: 0.468, Val acc: 0.5\n",
      "  Train acc: 0.466, Val acc: 0.5\n",
      "  Train acc: 0.428, Val acc: 0.5\n",
      "  Train acc: 0.416, Val acc: 0.0\n",
      "  Train acc: 0.478, Val acc: 0.5\n",
      "  Train acc: 0.47, Val acc: 0.5\n",
      "  Train acc: 0.422, Val acc: 0.5\n",
      "  Train acc: 0.452, Val acc: 1.0\n",
      "  Train acc: 0.406, Val acc: 0.5\n",
      "  Train acc: 0.438, Val acc: 1.0\n",
      "  Train acc: 0.48, Val acc: 0.5\n",
      "  Train acc: 0.428, Val acc: 0.5\n",
      "  Train acc: 0.428, Val acc: 0.0\n",
      "  Train acc: 0.472, Val acc: 0.5\n",
      "  Train acc: 0.474, Val acc: 0.0\n",
      "  Train acc: 0.496, Val acc: 0.5\n",
      "  Train acc: 0.452, Val acc: 0.5\n",
      "  Train acc: 0.442, Val acc: 0.0\n",
      "  Train acc: 0.464, Val acc: 0.5\n",
      "  Train acc: 0.456, Val acc: 0.5\n",
      "  Train acc: 0.484, Val acc: 0.0\n",
      "  Train acc: 0.484, Val acc: 0.5\n",
      "  Train acc: 0.446, Val acc: 0.0\n",
      "  Train acc: 0.472, Val acc: 0.5\n",
      "  Train acc: 0.42, Val acc: 0.5\n",
      "  Train acc: 0.476, Val acc: 0.0\n",
      "  Train acc: 0.452, Val acc: 0.0\n",
      "  Train acc: 0.462, Val acc: 0.0\n",
      "  Train acc: 0.472, Val acc: 0.0\n",
      "  Train acc: 0.48, Val acc: 0.0\n",
      "  Train acc: 0.456, Val acc: 0.0\n",
      "  Train acc: 0.464, Val acc: 0.5\n",
      "  Train acc: 0.486, Val acc: 0.0\n",
      "  Train acc: 0.444, Val acc: 0.0\n",
      "  Train acc: 0.518, Val acc: 0.0\n",
      "  Train acc: 0.478, Val acc: 0.0\n",
      "  Train acc: 0.488, Val acc: 0.0\n",
      "  Train acc: 0.524, Val acc: 0.5\n",
      "  Train acc: 0.386, Val acc: 0.0\n",
      "  Train acc: 0.51, Val acc: 0.0\n",
      "  Train acc: 0.48, Val acc: 0.5\n",
      "  Train acc: 0.462, Val acc: 0.0\n"
     ]
    }
   ],
   "source": [
    "an_loss7 = None\n",
    "an_train_acc7 = None\n",
    "an_val_acc7 = None\n",
    "\n",
    "accel_net7 = ConvNet4Accel(input_shape = (3,32,32), wt_scale = 0.001, reg = 0.0001)\n",
    "accel_net7.compile('adam', lr = 0.005)\n",
    "\n",
    "an_loss6, an_train_acc6, an_val_acc6 = accel_net7.fit(x_train, y_train,x_val, y_val,mini_batch_sz=10, n_epochs=100, acc_freq=100)"
   ]
  },
  {
   "cell_type": "markdown",
   "metadata": {},
   "source": [
    "### 7f) Visualize layer weights\n",
    "\n",
    "Run the following code and submit the inline image of the weight visualization of the 1st layer (convolutional layer) of the network.\n",
    "\n",
    "**Note:**\n",
    "- Setting optional parameter to `True` will let you save a .PNG file in your project folder of your weights. I'd suggest setting it to `False` unless look at your weights and they look like they are worth saving. You don't want a training run that produces undesirable weights to overwrite your good looking results!"
   ]
  },
  {
   "cell_type": "code",
   "execution_count": 20,
   "metadata": {},
   "outputs": [],
   "source": [
    "def plot_weights(wts, saveFig=True, filename='convWts_adam_overfit.png'):\n",
    "    grid_sz = int(np.sqrt(len(wts)))\n",
    "    plt.figure(figsize=(10,10))\n",
    "    for x in range(grid_sz):\n",
    "        for y in range(grid_sz):\n",
    "            lin_ind = np.ravel_multi_index((x, y), dims=(grid_sz, grid_sz))\n",
    "            plt.subplot(grid_sz, grid_sz, lin_ind+1)\n",
    "            currImg = wts[lin_ind]\n",
    "            low, high = np.min(currImg), np.max(currImg)\n",
    "            currImg = 255*(currImg - low) / (high - low)\n",
    "            currImg = currImg.astype('uint8')\n",
    "            plt.imshow(currImg)\n",
    "            plt.gca().axis('off')\n",
    "    if saveFig:\n",
    "        plt.savefig('convWts_adam_overfit.png')\n",
    "    plt.show()"
   ]
  },
  {
   "cell_type": "code",
   "execution_count": 21,
   "metadata": {},
   "outputs": [
    {
     "data": {
      "image/png": "[encoded data removed]",
      "text/plain": [
       "<Figure size 720x720 with 25 Axes>"
      ]
     },
     "metadata": {
      "needs_background": "light"
     },
     "output_type": "display_data"
    }
   ],
   "source": [
    "# Subsitute your trained network below\n",
    "# netT is my network's name\n",
    "# You shouldn't see RGB noise\n",
    "plot_weights(accel_net2.layers[0].wts.transpose(0, 2, 3, 1), saveFig=False, filename='convWts_adam_train_20epoch.png')"
   ]
  },
  {
   "cell_type": "markdown",
   "metadata": {},
   "source": [
    "**Question 6:** What do the learned filters look like? Does this make sense to you / is this what you expected? In which area of the brain do these filters resemble cell receptive fields?\n",
    "\n",
    "Note: you should not see RGB \"noise\". If you do, and you pass the \"overfit\" test with the Adam optimizer, you probably need to increase the number of training epochs."
   ]
  },
  {
   "cell_type": "markdown",
   "metadata": {},
   "source": [
    "## Extensions\n",
    "\n",
    "**General advice:** When making modifications for extensions, make small changes, then check to make sure you pass test code. Also, test out the network runtime on small examples before/after the changes. If you're not careful, the simulation time can become intractable really quickly!\n",
    "\n",
    "**Remember:** One thorough extension usually is worth more than several \"shallow\" extensions."
   ]
  },
  {
   "cell_type": "markdown",
   "metadata": {},
   "source": [
    "### 0. Pedal to the metal: achieve high accuracy on STL-10\n",
    "\n",
    "You can achieve higher (>50%) classification accuracy on the STL-10 test set. Find the hyperparameters to achieve this."
   ]
  },
  {
   "cell_type": "markdown",
   "metadata": {},
   "source": [
    "### 1. Experiment with different network architectures.\n",
    "\n",
    "The design of the `Network` class is modular. As long as you're careful about shapes, adding/removing network layers (e.g. `Conv2D`, `Dense`, etc.) should be straight forward. Experiment with adding another sequence of `Conv2D` and `MaxPooling2D` layers. Add another `Dense` hidden layer before the output layer. How do the changes affect classification accuracy and loss? "
   ]
  },
  {
   "cell_type": "markdown",
   "metadata": {},
   "source": [
    "### 2. Experiment with different network hyperparameters.\n",
    "\n",
    "Explore the affect one or more change below has on classification. Be careful about how the hyperparameters may affect the shape of network layers. Thorough analysis will get you more points (not try a few ad hoc values).\n",
    "\n",
    "- Experiment with different numbers of hidden units in the Dense layers.\n",
    "- Experiment different max pooling window sizes and strides.\n",
    "- Experiment with kernel sizes (not 7x7). Can you get away with smaller ones? Do they perform just as well? What is the change in runtime like? What is the impact on their visualized appearance?\n",
    "- Experiment with number of kernels in the convolutional layer. Is more/fewer better? What is the impact on their visualized appearance?"
   ]
  },
  {
   "cell_type": "markdown",
   "metadata": {},
   "source": [
    "###  3. Add and test some training bells and whistles\n",
    "\n",
    "Add features like early stopping, learning rate decay (learning rate at the end of an epoch becomes some fraction of its former value), etc and assess how they affect training loss convergence and accuracy. "
   ]
  },
  {
   "cell_type": "markdown",
   "metadata": {},
   "source": [
    "### 4. Additional optimizers\n",
    "\n",
    "Research other optimizers used in backpropogation and implement one or more of them within the model structure. Compare its performance to ones you have implemented"
   ]
  },
  {
   "cell_type": "markdown",
   "metadata": {},
   "source": [
    "### 5. Optimize your algorithms\n",
    "\n",
    "Find the main performance bottlenecks in the network and improve your code to reduce runtime (e.g. reduce explicit for loops, increase vectorization, etc). Research faster algorithms to do operations like convolution and implement them. Given the complexity of the network, I suggest focusing on one area at a time and make sure everything you change passes the test code before proceeding. Quantify and discuss your performance improvements"
   ]
  },
  {
   "cell_type": "markdown",
   "metadata": {},
   "source": [
    "### 6. Additional loss functions\n",
    "\n",
    "Implement support for sigmoid, or another activation functions and associated losses. Test it out and compare with softmax/cross entropy. Make sure any necessary changes to the layer's gradient are made."
   ]
  },
  {
   "cell_type": "markdown",
   "metadata": {},
   "source": [
    "### 7. Additional datasets\n",
    "\n",
    "Do classification and analyxe the results with an image dataset of your choice."
   ]
  },
  {
   "cell_type": "markdown",
   "metadata": {},
   "source": [
    "### 8. Performance analysis\n",
    "\n",
    "Do a thorough comparative analysis of the non-accelerated network and accelerated networks with respect to runtime."
   ]
  }
 ],
 "metadata": {
  "kernelspec": {
   "display_name": "Python 3",
   "language": "python",
   "name": "python3"
  },
  "language_info": {
   "codemirror_mode": {
    "name": "ipython",
    "version": 3
   },
   "file_extension": ".py",
   "mimetype": "text/x-python",
   "name": "python",
   "nbconvert_exporter": "python",
   "pygments_lexer": "ipython3",
   "version": "3.7.4"
  }
 },
 "nbformat": 4,
 "nbformat_minor": 2
}
